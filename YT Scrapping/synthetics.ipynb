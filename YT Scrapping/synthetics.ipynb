{
 "cells": [
  {
   "cell_type": "code",
   "execution_count": 122,
   "metadata": {},
   "outputs": [],
   "source": [
    "import pprint\n",
    "\n",
    "\n",
    "import matplotlib.pyplot as plt\n",
    "from mpl_toolkits.axes_grid1 import make_axes_locatable\n",
    "import numpy as np\n",
    "import tensorflow as tf\n",
    "import tensorflow_datasets as tfds\n",
    "import tensorflow_recommenders as tfrs\n",
    "\n",
    "import pandas as pd\n",
    "\n",
    "def get_mixer_data(data_size=200, random_seed=42):\n",
    "      # We need to fix the random seed\n",
    "    # to make colab runs repeatable.\n",
    "    rng = np.random.RandomState(random_seed)\n",
    "    userId = rng.randint(10, size=[data_size, 1])\n",
    "    ratings = rng.randint(5, size=[data_size, 1])\n",
    "\n",
    "    x = np.concatenate([userId, ratings], axis=1)\n",
    "\n",
    "    # # # Create 1st-order terms.\n",
    "    # y = 0.1 * country + 0.4 * bananas + 0.7 * coockbooks\n",
    "\n",
    "    # # Create 2nd-order cross terms.\n",
    "    # y += 0.1 * country * bananas + 3.1 * bananas * coockbooks + (\n",
    "    #     0.1 * coockbooks * coockbooks)\n",
    "    return x"
   ]
  },
  {
   "cell_type": "code",
   "execution_count": 123,
   "metadata": {},
   "outputs": [
    {
     "name": "stdout",
     "output_type": "stream",
     "text": [
      "        ratings\n",
      "userId         \n",
      "0            23\n",
      "1            17\n",
      "2            19\n",
      "3            18\n",
      "4            20\n",
      "5            15\n",
      "6            26\n",
      "7            23\n",
      "8            20\n",
      "9            19\n",
      "26\n",
      "18\n",
      "23\n",
      "20\n",
      "19\n",
      "19\n",
      "15\n",
      "17\n",
      "23\n",
      "20\n"
     ]
    }
   ],
   "source": [
    "    \n",
    "x = get_mixer_data()\n",
    "df = pd.DataFrame(x)\n",
    "df.columns=[\"userId\",\"ratings\"] \n",
    "a = (df.groupby([\"userId\"]).count())\n",
    "print(a)\n",
    "\n",
    "userId = df[\"userId\"].unique()\n",
    "for id in userId:\n",
    "  print(a[\"ratings\"][id])"
   ]
  },
  {
   "cell_type": "code",
   "execution_count": 124,
   "metadata": {},
   "outputs": [
    {
     "name": "stdout",
     "output_type": "stream",
     "text": [
      "['gGAA5gxzRoE' 'vV_FAwiQX6c' 'evyIJL8_1XE' 'T0Ymp3LWHqU' 'S8n2XhSYOJ0'\n",
      " 'rFfkVLO90XE' 'Ond2HGdrFc4' 'c5tIBR32_LY' 'bixR-KIJKYM' 'tflSzfzAKtE'\n",
      " 'tpYYIC3j0NQ' '2wKJwOircyU' 'A6aN1dYo5QA' '1w8OYX0iVzM' 'XSF02iR-lIY'\n",
      " '4GOFwI9GZgI' 'cIzly7Bc7G4' 'vz1Llv6QZT8' '9vpqElXcGSc' '6yBM2ZG-pWk'\n",
      " 'nU-IIXBWlS4' 'gH9zcq7Aeqc' 'eNfV-DM_ZBs' 'zC9DqY6-xlQ' '2UW1AY2M3vc'\n",
      " 'JYxXrmRYkng' 'PAPQWEBTMGA' 'BgBfFZi4bX0' 'wZZnxXyES80' 'Tj3n77fyR6E'\n",
      " '_TVVT5HlFeA' 'h95cQkEWBx0' 'hkOZhCkUR3k' 'MpUfTaTbkDM' '7sRyflzOc1Y'\n",
      " 'x5K6udV_Vo0' 'hLP_ZUzCSaY' 'VoVG9Kur-wM' 'rchKaSMQ__8' '9XKJMTjQDjA'\n",
      " 'FSTY5fU9YA4' 'KnfJUpwF1Gk' 'MTlBJXkWj8U' 'nPeRJvosIZM' 's7sUDQni0LI'\n",
      " 'ZVuHLPl69mM' '5Q7xmmzHV8k' 'qQdXB8qSY-E' 'h3gm_jd8pCM' 'g2AJYuOfBXI'\n",
      " 'D0R2l6hUeto' 'N2CbwmPfoKg' 'nGKPf0GMFK8' 'R753YiI0DcE' 'yKlh6D4ScYo'\n",
      " 'CHXGkKRBlnk' 'zp-lepvL8N0' 'IOnNys0dtgg' '-sKVNAIqKM8' 'a9LZd8Y5E5I'\n",
      " 'rJ4bmrRJmcc' 'oHNo1TilT3s' 'kQDRt7V9Eac' '8WBGye8Blnc' 'FK3FHZhqbDo'\n",
      " 'y5V27meUIbY' '7RFrVtAdFWw' '_Z4tOYXLTAs' 'daTNiMwn1b4' '_SaTx_CATzw'\n",
      " 'mmQaLLfiiyQ' 'XYCePRS66N8' 'TO-t_XFO_18' 'X_YrwKLPuis' 'UDHPOXzOfqM'\n",
      " 'lpCXWQbmux8' 'lBqNd-qHI9w' 'P6WoGyRk6S8' 'ADUwEa2HFsI' 'fY_RbsUkeCY'\n",
      " 'M0ijsjhNRcg' 'cb14z0SbTEU' 'bGxxZL9ujDo' '0KQY2h9_YbU' 'qNlQbVWd1dg'\n",
      " 'M32DmLBZpcg' 'VFbOfjcI0So' 'rjKAjYxueys' '1sfSDmpAHv8' '4wibnb_EEBg'\n",
      " '8bJKqQhcIH8' 'WlU9A6KMTRA' 'n_Ca4uOfc7o' 'Xv6IE-f0xVg' 'xjamx5_iLLs'\n",
      " 'AGf01kILFMw' 'rSyqKIbCBY8' '_Xr2mR0MDig' '0JXH6kfSmlg' '0NOZqw7uUxg'\n",
      " 'r2kaN4LpPUg' 'vUyQnQ0zvJ0' 'Mq_gOO_FEa4' 'GFjeBYQELzg' 'F1Far-wnZMg'\n",
      " '1-eI8OgXYEw' 'Y-nVxyzDSbs' 'Oij4ZxnxhEM' 'Bv-uAmhvpFU' 'ZPUYSni2VfA'\n",
      " 'bbDZvULePXI' 't4iwsNW8B1c' 'prUMI3gvpLY' 's3TAl8W9LqI' 'XDgTBGpwezE'\n",
      " '1Z--PSRym_I' 'obocvOIaupo' 'PhgVx7anUgk' 'xTLZeFEEnq8' 'r9-TT5y18Qs'\n",
      " 'wJmv3SPw2lE' 'ZZm-Zm9SZGU' 'z3slaXqmkT0' 'FoeMlZ3Ptgk' 'ryeoRO7RZag'\n",
      " '7v0wZV2TGDo' 'J5aQcGJjnR0' 'fxe6qev-bno' 'D-cpyKmg1WA' '-XG6e2kdnKU'\n",
      " 'BPyjt5eaC5Y' 'oemmwQ3rzb0' 'jbAgjWR-my8' 'RHEdZScrnXI' 'mwvpbX4fHGA'\n",
      " '4l5nfaU05eE' 'GZnhjy_fWqk' '4030sv9bnpI' '3tgEpuST4N4' 'y5XSSxqvYXY'\n",
      " '3NLQbwT7sOs' 'Md7aqDVHd3Y' '--K_eSgz0ss' '3BFyr6VwKeI' 'PPhaKCZE3vk'\n",
      " 'CzAy6tkSOIM' 'F9QwdRI7nOA' 'wAkUhlgIKws' 'gn8o2ouIc-U' '1AOt0IqE0S0'\n",
      " 'ukkxxG-WCi0' 'xcto4YJ_2i0' '4khJphSkOT4' 'nE7tRc0oN70' '2CIQbuUWsWo'\n",
      " '81HaDqjDhGI' 'U40QiJWabsY' 'VSdTT80zgv8' 'lUG1ZozPNh8' 'YiyqqvNePBw'\n",
      " '7xUPAs1LPVo' 'e1e9VKgj8ZM' '4tDlbQVuiIc' '2d_hz4qq_zc' 'gLDcC4s1irI'\n",
      " 'HMLz3AdNFKg' 'EgmN5w0U31U' '4dEhQuTNS8E' 'jYHLb_BTBf8' '_3bASPZiGv4'\n",
      " 'bxl5J6DCOds' 'xl9_EbIocWY' 'KpDS1oblEwM' 'YEr4FdzWXjo' 'wRo4t8eMJ2s'\n",
      " 'WOCrSnByFv8' 'M2dUzNVKTbU' 'CeQ21N-JPjs' 'Hrp46Jifi34' 'CN0e1GS85iE'\n",
      " 'x8o7PP_PZYs' '7msnxIswcXo' 'AntTEXxoPh8' 'LIzRPMrNgLM' 'iaSrGdRzixk'\n",
      " 'PAxFs0i-T8s' 'zg2Y4gtOm6Y' 'hwxHbDZTGDM' 'kPb3Qpm9a1Q' 'eVdzgJNBWZs'\n",
      " 'nu-PD0R5wP8' '7tfzUzZfNqs' 'PbhjRj4fJ_4' 'fzdEWa9CT6c' 'zeKDgvnyCj4'\n",
      " 'HfxE6tDt34Y' 'yYuSdZytIAY' 'H3pzN6wFEPo' '27MXq926FTI' 'stXixzXNgOM']\n"
     ]
    }
   ],
   "source": [
    "df1 = pd.read_csv(\"umkm.csv\")\n",
    "feature = df1[\"videoId\"].unique()\n",
    "print(feature)"
   ]
  },
  {
   "cell_type": "code",
   "execution_count": 136,
   "metadata": {},
   "outputs": [
    {
     "name": "stdout",
     "output_type": "stream",
     "text": [
      "['eVdzgJNBWZs', '--K_eSgz0ss', '2wKJwOircyU', '9XKJMTjQDjA', 'e1e9VKgj8ZM', 'wRo4t8eMJ2s', 'Y-nVxyzDSbs', 'Md7aqDVHd3Y', 'Bv-uAmhvpFU', 'CeQ21N-JPjs', 'jYHLb_BTBf8', 'xjamx5_iLLs', 'WlU9A6KMTRA', '1AOt0IqE0S0', '9vpqElXcGSc', '4030sv9bnpI', 'r9-TT5y18Qs', 'ADUwEa2HFsI', 'ZZm-Zm9SZGU', 'A6aN1dYo5QA', 'lBqNd-qHI9w', 'AntTEXxoPh8', 'fY_RbsUkeCY', '7tfzUzZfNqs', '_SaTx_CATzw', 'rchKaSMQ__8']\n",
      "['ADUwEa2HFsI', 'FoeMlZ3Ptgk', 'PAPQWEBTMGA', 'tpYYIC3j0NQ', '7v0wZV2TGDo', 'e1e9VKgj8ZM', 'PAxFs0i-T8s', 'x5K6udV_Vo0', 'X_YrwKLPuis', 'F9QwdRI7nOA', 't4iwsNW8B1c', '4khJphSkOT4', 'YiyqqvNePBw', 'y5V27meUIbY', '_3bASPZiGv4', 'gH9zcq7Aeqc', 'H3pzN6wFEPo', 'D-cpyKmg1WA']\n",
      "['vz1Llv6QZT8', 'rFfkVLO90XE', 'h3gm_jd8pCM', 'bGxxZL9ujDo', 'U40QiJWabsY', 'h95cQkEWBx0', 'kQDRt7V9Eac', 'hLP_ZUzCSaY', 'nu-PD0R5wP8', 'A6aN1dYo5QA', '4l5nfaU05eE', 'xcto4YJ_2i0', '-XG6e2kdnKU', 'nPeRJvosIZM', 'WlU9A6KMTRA', '4tDlbQVuiIc', 'TO-t_XFO_18', 'AGf01kILFMw', 'jYHLb_BTBf8', 'gGAA5gxzRoE', 't4iwsNW8B1c', 'fzdEWa9CT6c', 'Mq_gOO_FEa4']\n",
      "['fzdEWa9CT6c', 'GZnhjy_fWqk', 'PbhjRj4fJ_4', 'XDgTBGpwezE', 'fxe6qev-bno', '7msnxIswcXo', 'ZVuHLPl69mM', 'D-cpyKmg1WA', 'MTlBJXkWj8U', 'bixR-KIJKYM', '1-eI8OgXYEw', 'hwxHbDZTGDM', 'GFjeBYQELzg', 'lUG1ZozPNh8', 'jbAgjWR-my8', 'qNlQbVWd1dg', 'UDHPOXzOfqM', 'vz1Llv6QZT8', 'VFbOfjcI0So', 'VoVG9Kur-wM']\n",
      "['Xv6IE-f0xVg', '7RFrVtAdFWw', 'X_YrwKLPuis', 'M32DmLBZpcg', 'gn8o2ouIc-U', 'PbhjRj4fJ_4', 'nPeRJvosIZM', '6yBM2ZG-pWk', 'eNfV-DM_ZBs', 'D-cpyKmg1WA', 'R753YiI0DcE', 'y5XSSxqvYXY', 'bGxxZL9ujDo', 'FoeMlZ3Ptgk', 'rJ4bmrRJmcc', '4GOFwI9GZgI', '1w8OYX0iVzM', 'XSF02iR-lIY', 'BgBfFZi4bX0']\n",
      "['7tfzUzZfNqs', '27MXq926FTI', 'JYxXrmRYkng', 'prUMI3gvpLY', 'jbAgjWR-my8', 'VSdTT80zgv8', '4030sv9bnpI', 'KpDS1oblEwM', 'P6WoGyRk6S8', 'Oij4ZxnxhEM', '--K_eSgz0ss', '8WBGye8Blnc', 'IOnNys0dtgg', 'nU-IIXBWlS4', 'FSTY5fU9YA4', 'xTLZeFEEnq8', '1-eI8OgXYEw', '_3bASPZiGv4', 'gLDcC4s1irI']\n",
      "['FoeMlZ3Ptgk', 'zC9DqY6-xlQ', 'r2kaN4LpPUg', '0KQY2h9_YbU', 'S8n2XhSYOJ0', '_Xr2mR0MDig', 'IOnNys0dtgg', 'bixR-KIJKYM', 'x8o7PP_PZYs', 'c5tIBR32_LY', 'ADUwEa2HFsI', 's7sUDQni0LI', 'xcto4YJ_2i0', 'stXixzXNgOM', 'M0ijsjhNRcg']\n",
      "['KpDS1oblEwM', 'nu-PD0R5wP8', 'wJmv3SPw2lE', 'CHXGkKRBlnk', 'FSTY5fU9YA4', 't4iwsNW8B1c', 'oHNo1TilT3s', 'daTNiMwn1b4', 'kQDRt7V9Eac', 'FoeMlZ3Ptgk', 'PAPQWEBTMGA', 'A6aN1dYo5QA', 'xjamx5_iLLs', 'vV_FAwiQX6c', 'gn8o2ouIc-U', '7xUPAs1LPVo', '4wibnb_EEBg']\n",
      "['PPhaKCZE3vk', 'eNfV-DM_ZBs', 'X_YrwKLPuis', '3NLQbwT7sOs', '_Z4tOYXLTAs', 'wJmv3SPw2lE', 'S8n2XhSYOJ0', '4dEhQuTNS8E', 'MpUfTaTbkDM', 'mwvpbX4fHGA', 'zC9DqY6-xlQ', 'lUG1ZozPNh8', 'YiyqqvNePBw', '_TVVT5HlFeA', 'obocvOIaupo', 'CN0e1GS85iE', 'FoeMlZ3Ptgk', 'MTlBJXkWj8U', 's3TAl8W9LqI', 'EgmN5w0U31U', 'wZZnxXyES80', 'qNlQbVWd1dg', 'n_Ca4uOfc7o']\n",
      "['3BFyr6VwKeI', 'MpUfTaTbkDM', '-sKVNAIqKM8', 'xjamx5_iLLs', 'rFfkVLO90XE', 'UDHPOXzOfqM', 'hkOZhCkUR3k', 'M2dUzNVKTbU', 'ADUwEa2HFsI', 'FSTY5fU9YA4', 'bGxxZL9ujDo', '7xUPAs1LPVo', 'cIzly7Bc7G4', '_Xr2mR0MDig', '81HaDqjDhGI', 'LIzRPMrNgLM', 'e1e9VKgj8ZM', 'ZPUYSni2VfA', 'XSF02iR-lIY', '2UW1AY2M3vc']\n"
     ]
    }
   ],
   "source": [
    "def randomChoice(id,numofChoice,movieList):\n",
    "    choices=[]\n",
    "    for i in range(numofChoice):\n",
    "        if len(choices) == 0:\n",
    "            choice = np.random.choice(movieList)\n",
    "        else:\n",
    "            choice = np.random.choice(movieList)\n",
    "            while choice in choices:\n",
    "                choice = np.random.choice(movieList)\n",
    "        choices.append(choice)\n",
    "    return(choices)\n",
    "\n",
    "# print(randomChoice(1,5,feature))\n",
    "def matchUserIdandFeature():\n",
    "    for id in userId:\n",
    "        numberofChoice = a[\"ratings\"][id]\n",
    "        print(randomChoice(id,numberofChoice,feature))\n",
    "matchUserIdandFeature()"
   ]
  }
 ],
 "metadata": {
  "interpreter": {
   "hash": "9cf835102841f8dfb60b47907fa71a55b8493c47514dd57e25b2f57cd271ef6a"
  },
  "kernelspec": {
   "display_name": "Python 3.9.12 ('base')",
   "language": "python",
   "name": "python3"
  },
  "language_info": {
   "codemirror_mode": {
    "name": "ipython",
    "version": 3
   },
   "file_extension": ".py",
   "mimetype": "text/x-python",
   "name": "python",
   "nbconvert_exporter": "python",
   "pygments_lexer": "ipython3",
   "version": "3.9.12"
  },
  "orig_nbformat": 4
 },
 "nbformat": 4,
 "nbformat_minor": 2
}
