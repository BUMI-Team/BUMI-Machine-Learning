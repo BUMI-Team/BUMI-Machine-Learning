{
  "nbformat": 4,
  "nbformat_minor": 0,
  "metadata": {
    "colab": {
      "name": "manual_csv_basic_movie_retrieval.ipynb",
      "provenance": [],
      "collapsed_sections": [
        "3xaT6Nmo7FUC",
        "Yb3fp-0p7Jnq"
      ]
    },
    "kernelspec": {
      "name": "python3",
      "display_name": "Python 3"
    },
    "language_info": {
      "name": "python"
    }
  },
  "cells": [
    {
      "cell_type": "code",
      "execution_count": 1,
      "metadata": {
        "id": "RoUd2ZU0lUDG"
      },
      "outputs": [],
      "source": [
        "!pip install -q tensorflow-recommenders\n",
        "!pip install -q --upgrade tensorflow-datasets\n",
        "!pip install -q scann"
      ]
    },
    {
      "cell_type": "code",
      "source": [
        "import os\n",
        "import pprint\n",
        "import tempfile\n",
        "\n",
        "from typing import Dict, Text\n",
        "\n",
        "import numpy as np\n",
        "import tensorflow as tf\n",
        "import tensorflow_datasets as tfds\n",
        "import tensorflow_recommenders as tfrs"
      ],
      "metadata": {
        "id": "bsbrEiDKlsdm"
      },
      "execution_count": 2,
      "outputs": []
    },
    {
      "cell_type": "code",
      "source": [
        "from google.colab import drive\n",
        "drive.mount('/content/drive')"
      ],
      "metadata": {
        "colab": {
          "base_uri": "https://localhost:8080/"
        },
        "id": "YdzfOydrlxng",
        "outputId": "728ac311-17c0-4dad-881b-ae5a54005b1e"
      },
      "execution_count": 3,
      "outputs": [
        {
          "output_type": "stream",
          "name": "stdout",
          "text": [
            "Drive already mounted at /content/drive; to attempt to forcibly remount, call drive.mount(\"/content/drive\", force_remount=True).\n"
          ]
        }
      ]
    },
    {
      "cell_type": "markdown",
      "source": [
        "## Persiapan Dataset\n",
        "\n",
        "Kl ngunain colab dan google drive, \n",
        "1. masukin csv dulu di google drive..trus mounting.\n",
        "2. sesuain path csvnya"
      ],
      "metadata": {
        "id": "1obVxDBkAdLj"
      }
    },
    {
      "cell_type": "code",
      "source": [
        "import pandas as pd\n",
        "\n",
        "movies_df = pd.read_csv('/content/drive/MyDrive/Colab Notebooks/movies.csv')\n",
        "ratings_df = pd.read_csv('/content/drive/MyDrive/Colab Notebooks/ratings.csv')\n",
        "print() "
      ],
      "metadata": {
        "colab": {
          "base_uri": "https://localhost:8080/"
        },
        "id": "gK1cvPzYlzae",
        "outputId": "37657296-44c9-4f63-ccbd-10260af9927f"
      },
      "execution_count": 40,
      "outputs": [
        {
          "output_type": "stream",
          "name": "stdout",
          "text": [
            "\n"
          ]
        }
      ]
    },
    {
      "cell_type": "markdown",
      "source": [
        "Potong Data cuma 100, biar cepet aja..."
      ],
      "metadata": {
        "id": "D6rvLk8XAvK9"
      }
    },
    {
      "cell_type": "code",
      "source": [
        "movies_df_100 = movies_df[:100]\n",
        "ratings_df_100 = ratings_df[:100]\n",
        "# movies_df_100\n",
        "ratings_df_100"
      ],
      "metadata": {
        "colab": {
          "base_uri": "https://localhost:8080/",
          "height": 424
        },
        "id": "m9VWja6azNg-",
        "outputId": "ec345a65-ea7b-44fa-dce5-bd6121d589ce"
      },
      "execution_count": 41,
      "outputs": [
        {
          "output_type": "execute_result",
          "data": {
            "text/plain": [
              "    userId  movieId  rating   timestamp\n",
              "0        1      296     5.0  1147880044\n",
              "1        1      306     3.5  1147868817\n",
              "2        1      307     5.0  1147868828\n",
              "3        1      665     5.0  1147878820\n",
              "4        1      899     3.5  1147868510\n",
              "..     ...      ...     ...         ...\n",
              "95       2      733     4.5  1141415905\n",
              "96       2      858     3.5  1141416926\n",
              "97       2      914     4.0  1141417642\n",
              "98       2      953     4.5  1141417487\n",
              "99       2     1035     1.0  1141415899\n",
              "\n",
              "[100 rows x 4 columns]"
            ],
            "text/html": [
              "\n",
              "  <div id=\"df-21c40c8c-892f-4374-bbf9-53486267b9f7\">\n",
              "    <div class=\"colab-df-container\">\n",
              "      <div>\n",
              "<style scoped>\n",
              "    .dataframe tbody tr th:only-of-type {\n",
              "        vertical-align: middle;\n",
              "    }\n",
              "\n",
              "    .dataframe tbody tr th {\n",
              "        vertical-align: top;\n",
              "    }\n",
              "\n",
              "    .dataframe thead th {\n",
              "        text-align: right;\n",
              "    }\n",
              "</style>\n",
              "<table border=\"1\" class=\"dataframe\">\n",
              "  <thead>\n",
              "    <tr style=\"text-align: right;\">\n",
              "      <th></th>\n",
              "      <th>userId</th>\n",
              "      <th>movieId</th>\n",
              "      <th>rating</th>\n",
              "      <th>timestamp</th>\n",
              "    </tr>\n",
              "  </thead>\n",
              "  <tbody>\n",
              "    <tr>\n",
              "      <th>0</th>\n",
              "      <td>1</td>\n",
              "      <td>296</td>\n",
              "      <td>5.0</td>\n",
              "      <td>1147880044</td>\n",
              "    </tr>\n",
              "    <tr>\n",
              "      <th>1</th>\n",
              "      <td>1</td>\n",
              "      <td>306</td>\n",
              "      <td>3.5</td>\n",
              "      <td>1147868817</td>\n",
              "    </tr>\n",
              "    <tr>\n",
              "      <th>2</th>\n",
              "      <td>1</td>\n",
              "      <td>307</td>\n",
              "      <td>5.0</td>\n",
              "      <td>1147868828</td>\n",
              "    </tr>\n",
              "    <tr>\n",
              "      <th>3</th>\n",
              "      <td>1</td>\n",
              "      <td>665</td>\n",
              "      <td>5.0</td>\n",
              "      <td>1147878820</td>\n",
              "    </tr>\n",
              "    <tr>\n",
              "      <th>4</th>\n",
              "      <td>1</td>\n",
              "      <td>899</td>\n",
              "      <td>3.5</td>\n",
              "      <td>1147868510</td>\n",
              "    </tr>\n",
              "    <tr>\n",
              "      <th>...</th>\n",
              "      <td>...</td>\n",
              "      <td>...</td>\n",
              "      <td>...</td>\n",
              "      <td>...</td>\n",
              "    </tr>\n",
              "    <tr>\n",
              "      <th>95</th>\n",
              "      <td>2</td>\n",
              "      <td>733</td>\n",
              "      <td>4.5</td>\n",
              "      <td>1141415905</td>\n",
              "    </tr>\n",
              "    <tr>\n",
              "      <th>96</th>\n",
              "      <td>2</td>\n",
              "      <td>858</td>\n",
              "      <td>3.5</td>\n",
              "      <td>1141416926</td>\n",
              "    </tr>\n",
              "    <tr>\n",
              "      <th>97</th>\n",
              "      <td>2</td>\n",
              "      <td>914</td>\n",
              "      <td>4.0</td>\n",
              "      <td>1141417642</td>\n",
              "    </tr>\n",
              "    <tr>\n",
              "      <th>98</th>\n",
              "      <td>2</td>\n",
              "      <td>953</td>\n",
              "      <td>4.5</td>\n",
              "      <td>1141417487</td>\n",
              "    </tr>\n",
              "    <tr>\n",
              "      <th>99</th>\n",
              "      <td>2</td>\n",
              "      <td>1035</td>\n",
              "      <td>1.0</td>\n",
              "      <td>1141415899</td>\n",
              "    </tr>\n",
              "  </tbody>\n",
              "</table>\n",
              "<p>100 rows × 4 columns</p>\n",
              "</div>\n",
              "      <button class=\"colab-df-convert\" onclick=\"convertToInteractive('df-21c40c8c-892f-4374-bbf9-53486267b9f7')\"\n",
              "              title=\"Convert this dataframe to an interactive table.\"\n",
              "              style=\"display:none;\">\n",
              "        \n",
              "  <svg xmlns=\"http://www.w3.org/2000/svg\" height=\"24px\"viewBox=\"0 0 24 24\"\n",
              "       width=\"24px\">\n",
              "    <path d=\"M0 0h24v24H0V0z\" fill=\"none\"/>\n",
              "    <path d=\"M18.56 5.44l.94 2.06.94-2.06 2.06-.94-2.06-.94-.94-2.06-.94 2.06-2.06.94zm-11 1L8.5 8.5l.94-2.06 2.06-.94-2.06-.94L8.5 2.5l-.94 2.06-2.06.94zm10 10l.94 2.06.94-2.06 2.06-.94-2.06-.94-.94-2.06-.94 2.06-2.06.94z\"/><path d=\"M17.41 7.96l-1.37-1.37c-.4-.4-.92-.59-1.43-.59-.52 0-1.04.2-1.43.59L10.3 9.45l-7.72 7.72c-.78.78-.78 2.05 0 2.83L4 21.41c.39.39.9.59 1.41.59.51 0 1.02-.2 1.41-.59l7.78-7.78 2.81-2.81c.8-.78.8-2.07 0-2.86zM5.41 20L4 18.59l7.72-7.72 1.47 1.35L5.41 20z\"/>\n",
              "  </svg>\n",
              "      </button>\n",
              "      \n",
              "  <style>\n",
              "    .colab-df-container {\n",
              "      display:flex;\n",
              "      flex-wrap:wrap;\n",
              "      gap: 12px;\n",
              "    }\n",
              "\n",
              "    .colab-df-convert {\n",
              "      background-color: #E8F0FE;\n",
              "      border: none;\n",
              "      border-radius: 50%;\n",
              "      cursor: pointer;\n",
              "      display: none;\n",
              "      fill: #1967D2;\n",
              "      height: 32px;\n",
              "      padding: 0 0 0 0;\n",
              "      width: 32px;\n",
              "    }\n",
              "\n",
              "    .colab-df-convert:hover {\n",
              "      background-color: #E2EBFA;\n",
              "      box-shadow: 0px 1px 2px rgba(60, 64, 67, 0.3), 0px 1px 3px 1px rgba(60, 64, 67, 0.15);\n",
              "      fill: #174EA6;\n",
              "    }\n",
              "\n",
              "    [theme=dark] .colab-df-convert {\n",
              "      background-color: #3B4455;\n",
              "      fill: #D2E3FC;\n",
              "    }\n",
              "\n",
              "    [theme=dark] .colab-df-convert:hover {\n",
              "      background-color: #434B5C;\n",
              "      box-shadow: 0px 1px 3px 1px rgba(0, 0, 0, 0.15);\n",
              "      filter: drop-shadow(0px 1px 2px rgba(0, 0, 0, 0.3));\n",
              "      fill: #FFFFFF;\n",
              "    }\n",
              "  </style>\n",
              "\n",
              "      <script>\n",
              "        const buttonEl =\n",
              "          document.querySelector('#df-21c40c8c-892f-4374-bbf9-53486267b9f7 button.colab-df-convert');\n",
              "        buttonEl.style.display =\n",
              "          google.colab.kernel.accessAllowed ? 'block' : 'none';\n",
              "\n",
              "        async function convertToInteractive(key) {\n",
              "          const element = document.querySelector('#df-21c40c8c-892f-4374-bbf9-53486267b9f7');\n",
              "          const dataTable =\n",
              "            await google.colab.kernel.invokeFunction('convertToInteractive',\n",
              "                                                     [key], {});\n",
              "          if (!dataTable) return;\n",
              "\n",
              "          const docLinkHtml = 'Like what you see? Visit the ' +\n",
              "            '<a target=\"_blank\" href=https://colab.research.google.com/notebooks/data_table.ipynb>data table notebook</a>'\n",
              "            + ' to learn more about interactive tables.';\n",
              "          element.innerHTML = '';\n",
              "          dataTable['output_type'] = 'display_data';\n",
              "          await google.colab.output.renderOutput(dataTable, element);\n",
              "          const docLink = document.createElement('div');\n",
              "          docLink.innerHTML = docLinkHtml;\n",
              "          element.appendChild(docLink);\n",
              "        }\n",
              "      </script>\n",
              "    </div>\n",
              "  </div>\n",
              "  "
            ]
          },
          "metadata": {},
          "execution_count": 41
        }
      ]
    },
    {
      "cell_type": "markdown",
      "source": [
        "## Preprocessing"
      ],
      "metadata": {
        "id": "pchETzv0mw4j"
      }
    },
    {
      "cell_type": "markdown",
      "source": [
        "Ini gw nyesuain dengan format data asli kalau menggunakan tfds..."
      ],
      "metadata": {
        "id": "Pp70uq_KA16Q"
      }
    },
    {
      "cell_type": "code",
      "source": [
        "movies_df_100.movieId = movies_df_100.movieId.apply(lambda x: str(x))\n",
        "movies_df_100.head()\n",
        "print(type(movies_df_100.movieId[0]))"
      ],
      "metadata": {
        "colab": {
          "base_uri": "https://localhost:8080/"
        },
        "id": "hQ3DanfImv1o",
        "outputId": "5d3b078e-3121-44e6-888a-3ae6fc1e2375"
      },
      "execution_count": 42,
      "outputs": [
        {
          "output_type": "stream",
          "name": "stdout",
          "text": [
            "<class 'str'>\n"
          ]
        },
        {
          "output_type": "stream",
          "name": "stderr",
          "text": [
            "/usr/local/lib/python3.7/dist-packages/pandas/core/generic.py:5516: SettingWithCopyWarning: \n",
            "A value is trying to be set on a copy of a slice from a DataFrame.\n",
            "Try using .loc[row_indexer,col_indexer] = value instead\n",
            "\n",
            "See the caveats in the documentation: https://pandas.pydata.org/pandas-docs/stable/user_guide/indexing.html#returning-a-view-versus-a-copy\n",
            "  self[name] = value\n"
          ]
        }
      ]
    },
    {
      "cell_type": "code",
      "source": [
        "ratings_df_100.userId = ratings_df_100.userId.apply(lambda x: str(x)) \n",
        "ratings_df_100.head()"
      ],
      "metadata": {
        "colab": {
          "base_uri": "https://localhost:8080/",
          "height": 310
        },
        "id": "WZ-40hxJ32Z_",
        "outputId": "a46b4ea6-28b0-452d-806c-acb06c25a59b"
      },
      "execution_count": 43,
      "outputs": [
        {
          "output_type": "stream",
          "name": "stderr",
          "text": [
            "/usr/local/lib/python3.7/dist-packages/pandas/core/generic.py:5516: SettingWithCopyWarning: \n",
            "A value is trying to be set on a copy of a slice from a DataFrame.\n",
            "Try using .loc[row_indexer,col_indexer] = value instead\n",
            "\n",
            "See the caveats in the documentation: https://pandas.pydata.org/pandas-docs/stable/user_guide/indexing.html#returning-a-view-versus-a-copy\n",
            "  self[name] = value\n"
          ]
        },
        {
          "output_type": "execute_result",
          "data": {
            "text/plain": [
              "  userId  movieId  rating   timestamp\n",
              "0      1      296     5.0  1147880044\n",
              "1      1      306     3.5  1147868817\n",
              "2      1      307     5.0  1147868828\n",
              "3      1      665     5.0  1147878820\n",
              "4      1      899     3.5  1147868510"
            ],
            "text/html": [
              "\n",
              "  <div id=\"df-0f9467bd-6bba-44cd-aad3-dfcf3efcf307\">\n",
              "    <div class=\"colab-df-container\">\n",
              "      <div>\n",
              "<style scoped>\n",
              "    .dataframe tbody tr th:only-of-type {\n",
              "        vertical-align: middle;\n",
              "    }\n",
              "\n",
              "    .dataframe tbody tr th {\n",
              "        vertical-align: top;\n",
              "    }\n",
              "\n",
              "    .dataframe thead th {\n",
              "        text-align: right;\n",
              "    }\n",
              "</style>\n",
              "<table border=\"1\" class=\"dataframe\">\n",
              "  <thead>\n",
              "    <tr style=\"text-align: right;\">\n",
              "      <th></th>\n",
              "      <th>userId</th>\n",
              "      <th>movieId</th>\n",
              "      <th>rating</th>\n",
              "      <th>timestamp</th>\n",
              "    </tr>\n",
              "  </thead>\n",
              "  <tbody>\n",
              "    <tr>\n",
              "      <th>0</th>\n",
              "      <td>1</td>\n",
              "      <td>296</td>\n",
              "      <td>5.0</td>\n",
              "      <td>1147880044</td>\n",
              "    </tr>\n",
              "    <tr>\n",
              "      <th>1</th>\n",
              "      <td>1</td>\n",
              "      <td>306</td>\n",
              "      <td>3.5</td>\n",
              "      <td>1147868817</td>\n",
              "    </tr>\n",
              "    <tr>\n",
              "      <th>2</th>\n",
              "      <td>1</td>\n",
              "      <td>307</td>\n",
              "      <td>5.0</td>\n",
              "      <td>1147868828</td>\n",
              "    </tr>\n",
              "    <tr>\n",
              "      <th>3</th>\n",
              "      <td>1</td>\n",
              "      <td>665</td>\n",
              "      <td>5.0</td>\n",
              "      <td>1147878820</td>\n",
              "    </tr>\n",
              "    <tr>\n",
              "      <th>4</th>\n",
              "      <td>1</td>\n",
              "      <td>899</td>\n",
              "      <td>3.5</td>\n",
              "      <td>1147868510</td>\n",
              "    </tr>\n",
              "  </tbody>\n",
              "</table>\n",
              "</div>\n",
              "      <button class=\"colab-df-convert\" onclick=\"convertToInteractive('df-0f9467bd-6bba-44cd-aad3-dfcf3efcf307')\"\n",
              "              title=\"Convert this dataframe to an interactive table.\"\n",
              "              style=\"display:none;\">\n",
              "        \n",
              "  <svg xmlns=\"http://www.w3.org/2000/svg\" height=\"24px\"viewBox=\"0 0 24 24\"\n",
              "       width=\"24px\">\n",
              "    <path d=\"M0 0h24v24H0V0z\" fill=\"none\"/>\n",
              "    <path d=\"M18.56 5.44l.94 2.06.94-2.06 2.06-.94-2.06-.94-.94-2.06-.94 2.06-2.06.94zm-11 1L8.5 8.5l.94-2.06 2.06-.94-2.06-.94L8.5 2.5l-.94 2.06-2.06.94zm10 10l.94 2.06.94-2.06 2.06-.94-2.06-.94-.94-2.06-.94 2.06-2.06.94z\"/><path d=\"M17.41 7.96l-1.37-1.37c-.4-.4-.92-.59-1.43-.59-.52 0-1.04.2-1.43.59L10.3 9.45l-7.72 7.72c-.78.78-.78 2.05 0 2.83L4 21.41c.39.39.9.59 1.41.59.51 0 1.02-.2 1.41-.59l7.78-7.78 2.81-2.81c.8-.78.8-2.07 0-2.86zM5.41 20L4 18.59l7.72-7.72 1.47 1.35L5.41 20z\"/>\n",
              "  </svg>\n",
              "      </button>\n",
              "      \n",
              "  <style>\n",
              "    .colab-df-container {\n",
              "      display:flex;\n",
              "      flex-wrap:wrap;\n",
              "      gap: 12px;\n",
              "    }\n",
              "\n",
              "    .colab-df-convert {\n",
              "      background-color: #E8F0FE;\n",
              "      border: none;\n",
              "      border-radius: 50%;\n",
              "      cursor: pointer;\n",
              "      display: none;\n",
              "      fill: #1967D2;\n",
              "      height: 32px;\n",
              "      padding: 0 0 0 0;\n",
              "      width: 32px;\n",
              "    }\n",
              "\n",
              "    .colab-df-convert:hover {\n",
              "      background-color: #E2EBFA;\n",
              "      box-shadow: 0px 1px 2px rgba(60, 64, 67, 0.3), 0px 1px 3px 1px rgba(60, 64, 67, 0.15);\n",
              "      fill: #174EA6;\n",
              "    }\n",
              "\n",
              "    [theme=dark] .colab-df-convert {\n",
              "      background-color: #3B4455;\n",
              "      fill: #D2E3FC;\n",
              "    }\n",
              "\n",
              "    [theme=dark] .colab-df-convert:hover {\n",
              "      background-color: #434B5C;\n",
              "      box-shadow: 0px 1px 3px 1px rgba(0, 0, 0, 0.15);\n",
              "      filter: drop-shadow(0px 1px 2px rgba(0, 0, 0, 0.3));\n",
              "      fill: #FFFFFF;\n",
              "    }\n",
              "  </style>\n",
              "\n",
              "      <script>\n",
              "        const buttonEl =\n",
              "          document.querySelector('#df-0f9467bd-6bba-44cd-aad3-dfcf3efcf307 button.colab-df-convert');\n",
              "        buttonEl.style.display =\n",
              "          google.colab.kernel.accessAllowed ? 'block' : 'none';\n",
              "\n",
              "        async function convertToInteractive(key) {\n",
              "          const element = document.querySelector('#df-0f9467bd-6bba-44cd-aad3-dfcf3efcf307');\n",
              "          const dataTable =\n",
              "            await google.colab.kernel.invokeFunction('convertToInteractive',\n",
              "                                                     [key], {});\n",
              "          if (!dataTable) return;\n",
              "\n",
              "          const docLinkHtml = 'Like what you see? Visit the ' +\n",
              "            '<a target=\"_blank\" href=https://colab.research.google.com/notebooks/data_table.ipynb>data table notebook</a>'\n",
              "            + ' to learn more about interactive tables.';\n",
              "          element.innerHTML = '';\n",
              "          dataTable['output_type'] = 'display_data';\n",
              "          await google.colab.output.renderOutput(dataTable, element);\n",
              "          const docLink = document.createElement('div');\n",
              "          docLink.innerHTML = docLinkHtml;\n",
              "          element.appendChild(docLink);\n",
              "        }\n",
              "      </script>\n",
              "    </div>\n",
              "  </div>\n",
              "  "
            ]
          },
          "metadata": {},
          "execution_count": 43
        }
      ]
    },
    {
      "cell_type": "code",
      "source": [
        "ratings_df_100.movieId = ratings_df_100.movieId.apply(lambda x: str(x)) \n",
        "ratings_df_100.head()"
      ],
      "metadata": {
        "colab": {
          "base_uri": "https://localhost:8080/",
          "height": 310
        },
        "id": "pHgX3r0Y4NtE",
        "outputId": "59205e64-8934-4790-8ba7-b88f5d374206"
      },
      "execution_count": 44,
      "outputs": [
        {
          "output_type": "stream",
          "name": "stderr",
          "text": [
            "/usr/local/lib/python3.7/dist-packages/pandas/core/generic.py:5516: SettingWithCopyWarning: \n",
            "A value is trying to be set on a copy of a slice from a DataFrame.\n",
            "Try using .loc[row_indexer,col_indexer] = value instead\n",
            "\n",
            "See the caveats in the documentation: https://pandas.pydata.org/pandas-docs/stable/user_guide/indexing.html#returning-a-view-versus-a-copy\n",
            "  self[name] = value\n"
          ]
        },
        {
          "output_type": "execute_result",
          "data": {
            "text/plain": [
              "  userId movieId  rating   timestamp\n",
              "0      1     296     5.0  1147880044\n",
              "1      1     306     3.5  1147868817\n",
              "2      1     307     5.0  1147868828\n",
              "3      1     665     5.0  1147878820\n",
              "4      1     899     3.5  1147868510"
            ],
            "text/html": [
              "\n",
              "  <div id=\"df-d031709f-c902-4ed0-b7e7-2d4a6d99d6e9\">\n",
              "    <div class=\"colab-df-container\">\n",
              "      <div>\n",
              "<style scoped>\n",
              "    .dataframe tbody tr th:only-of-type {\n",
              "        vertical-align: middle;\n",
              "    }\n",
              "\n",
              "    .dataframe tbody tr th {\n",
              "        vertical-align: top;\n",
              "    }\n",
              "\n",
              "    .dataframe thead th {\n",
              "        text-align: right;\n",
              "    }\n",
              "</style>\n",
              "<table border=\"1\" class=\"dataframe\">\n",
              "  <thead>\n",
              "    <tr style=\"text-align: right;\">\n",
              "      <th></th>\n",
              "      <th>userId</th>\n",
              "      <th>movieId</th>\n",
              "      <th>rating</th>\n",
              "      <th>timestamp</th>\n",
              "    </tr>\n",
              "  </thead>\n",
              "  <tbody>\n",
              "    <tr>\n",
              "      <th>0</th>\n",
              "      <td>1</td>\n",
              "      <td>296</td>\n",
              "      <td>5.0</td>\n",
              "      <td>1147880044</td>\n",
              "    </tr>\n",
              "    <tr>\n",
              "      <th>1</th>\n",
              "      <td>1</td>\n",
              "      <td>306</td>\n",
              "      <td>3.5</td>\n",
              "      <td>1147868817</td>\n",
              "    </tr>\n",
              "    <tr>\n",
              "      <th>2</th>\n",
              "      <td>1</td>\n",
              "      <td>307</td>\n",
              "      <td>5.0</td>\n",
              "      <td>1147868828</td>\n",
              "    </tr>\n",
              "    <tr>\n",
              "      <th>3</th>\n",
              "      <td>1</td>\n",
              "      <td>665</td>\n",
              "      <td>5.0</td>\n",
              "      <td>1147878820</td>\n",
              "    </tr>\n",
              "    <tr>\n",
              "      <th>4</th>\n",
              "      <td>1</td>\n",
              "      <td>899</td>\n",
              "      <td>3.5</td>\n",
              "      <td>1147868510</td>\n",
              "    </tr>\n",
              "  </tbody>\n",
              "</table>\n",
              "</div>\n",
              "      <button class=\"colab-df-convert\" onclick=\"convertToInteractive('df-d031709f-c902-4ed0-b7e7-2d4a6d99d6e9')\"\n",
              "              title=\"Convert this dataframe to an interactive table.\"\n",
              "              style=\"display:none;\">\n",
              "        \n",
              "  <svg xmlns=\"http://www.w3.org/2000/svg\" height=\"24px\"viewBox=\"0 0 24 24\"\n",
              "       width=\"24px\">\n",
              "    <path d=\"M0 0h24v24H0V0z\" fill=\"none\"/>\n",
              "    <path d=\"M18.56 5.44l.94 2.06.94-2.06 2.06-.94-2.06-.94-.94-2.06-.94 2.06-2.06.94zm-11 1L8.5 8.5l.94-2.06 2.06-.94-2.06-.94L8.5 2.5l-.94 2.06-2.06.94zm10 10l.94 2.06.94-2.06 2.06-.94-2.06-.94-.94-2.06-.94 2.06-2.06.94z\"/><path d=\"M17.41 7.96l-1.37-1.37c-.4-.4-.92-.59-1.43-.59-.52 0-1.04.2-1.43.59L10.3 9.45l-7.72 7.72c-.78.78-.78 2.05 0 2.83L4 21.41c.39.39.9.59 1.41.59.51 0 1.02-.2 1.41-.59l7.78-7.78 2.81-2.81c.8-.78.8-2.07 0-2.86zM5.41 20L4 18.59l7.72-7.72 1.47 1.35L5.41 20z\"/>\n",
              "  </svg>\n",
              "      </button>\n",
              "      \n",
              "  <style>\n",
              "    .colab-df-container {\n",
              "      display:flex;\n",
              "      flex-wrap:wrap;\n",
              "      gap: 12px;\n",
              "    }\n",
              "\n",
              "    .colab-df-convert {\n",
              "      background-color: #E8F0FE;\n",
              "      border: none;\n",
              "      border-radius: 50%;\n",
              "      cursor: pointer;\n",
              "      display: none;\n",
              "      fill: #1967D2;\n",
              "      height: 32px;\n",
              "      padding: 0 0 0 0;\n",
              "      width: 32px;\n",
              "    }\n",
              "\n",
              "    .colab-df-convert:hover {\n",
              "      background-color: #E2EBFA;\n",
              "      box-shadow: 0px 1px 2px rgba(60, 64, 67, 0.3), 0px 1px 3px 1px rgba(60, 64, 67, 0.15);\n",
              "      fill: #174EA6;\n",
              "    }\n",
              "\n",
              "    [theme=dark] .colab-df-convert {\n",
              "      background-color: #3B4455;\n",
              "      fill: #D2E3FC;\n",
              "    }\n",
              "\n",
              "    [theme=dark] .colab-df-convert:hover {\n",
              "      background-color: #434B5C;\n",
              "      box-shadow: 0px 1px 3px 1px rgba(0, 0, 0, 0.15);\n",
              "      filter: drop-shadow(0px 1px 2px rgba(0, 0, 0, 0.3));\n",
              "      fill: #FFFFFF;\n",
              "    }\n",
              "  </style>\n",
              "\n",
              "      <script>\n",
              "        const buttonEl =\n",
              "          document.querySelector('#df-d031709f-c902-4ed0-b7e7-2d4a6d99d6e9 button.colab-df-convert');\n",
              "        buttonEl.style.display =\n",
              "          google.colab.kernel.accessAllowed ? 'block' : 'none';\n",
              "\n",
              "        async function convertToInteractive(key) {\n",
              "          const element = document.querySelector('#df-d031709f-c902-4ed0-b7e7-2d4a6d99d6e9');\n",
              "          const dataTable =\n",
              "            await google.colab.kernel.invokeFunction('convertToInteractive',\n",
              "                                                     [key], {});\n",
              "          if (!dataTable) return;\n",
              "\n",
              "          const docLinkHtml = 'Like what you see? Visit the ' +\n",
              "            '<a target=\"_blank\" href=https://colab.research.google.com/notebooks/data_table.ipynb>data table notebook</a>'\n",
              "            + ' to learn more about interactive tables.';\n",
              "          element.innerHTML = '';\n",
              "          dataTable['output_type'] = 'display_data';\n",
              "          await google.colab.output.renderOutput(dataTable, element);\n",
              "          const docLink = document.createElement('div');\n",
              "          docLink.innerHTML = docLinkHtml;\n",
              "          element.appendChild(docLink);\n",
              "        }\n",
              "      </script>\n",
              "    </div>\n",
              "  </div>\n",
              "  "
            ]
          },
          "metadata": {},
          "execution_count": 44
        }
      ]
    },
    {
      "cell_type": "markdown",
      "source": [
        "Biar mudah diproses, data \"genre\" disesuain formatnya biar jadi list"
      ],
      "metadata": {
        "id": "iT9P1PP2BBCE"
      }
    },
    {
      "cell_type": "code",
      "source": [
        "movies_df_100[\"genres\"] = movies_df_100[\"genres\"].apply(lambda x: x.split(\"|\"))"
      ],
      "metadata": {
        "colab": {
          "base_uri": "https://localhost:8080/"
        },
        "id": "vTMSYeWqoE0a",
        "outputId": "d8b8c349-5ac8-42fa-d7a0-0b7b34a5f09f"
      },
      "execution_count": 46,
      "outputs": [
        {
          "output_type": "stream",
          "name": "stderr",
          "text": [
            "/usr/local/lib/python3.7/dist-packages/ipykernel_launcher.py:1: SettingWithCopyWarning: \n",
            "A value is trying to be set on a copy of a slice from a DataFrame.\n",
            "Try using .loc[row_indexer,col_indexer] = value instead\n",
            "\n",
            "See the caveats in the documentation: https://pandas.pydata.org/pandas-docs/stable/user_guide/indexing.html#returning-a-view-versus-a-copy\n",
            "  \"\"\"Entry point for launching an IPython kernel.\n"
          ]
        }
      ]
    },
    {
      "cell_type": "code",
      "source": [
        "movies_df_100"
      ],
      "metadata": {
        "colab": {
          "base_uri": "https://localhost:8080/",
          "height": 424
        },
        "id": "2sfV1NR30BaM",
        "outputId": "1f8afee9-c494-4107-ef55-acb765fefc19"
      },
      "execution_count": 47,
      "outputs": [
        {
          "output_type": "execute_result",
          "data": {
            "text/plain": [
              "   movieId                                 title  \\\n",
              "0        1                      Toy Story (1995)   \n",
              "1        2                        Jumanji (1995)   \n",
              "2        3               Grumpier Old Men (1995)   \n",
              "3        4              Waiting to Exhale (1995)   \n",
              "4        5    Father of the Bride Part II (1995)   \n",
              "..     ...                                   ...   \n",
              "95      97               Hate (Haine, La) (1995)   \n",
              "96      98                       Shopping (1994)   \n",
              "97      99  Heidi Fleiss: Hollywood Madam (1995)   \n",
              "98     100                      City Hall (1996)   \n",
              "99     101                  Bottle Rocket (1996)   \n",
              "\n",
              "                                               genres  \n",
              "0   [Adventure, Animation, Children, Comedy, Fantasy]  \n",
              "1                      [Adventure, Children, Fantasy]  \n",
              "2                                   [Comedy, Romance]  \n",
              "3                            [Comedy, Drama, Romance]  \n",
              "4                                            [Comedy]  \n",
              "..                                                ...  \n",
              "95                                     [Crime, Drama]  \n",
              "96                                 [Action, Thriller]  \n",
              "97                                      [Documentary]  \n",
              "98                                  [Drama, Thriller]  \n",
              "99                [Adventure, Comedy, Crime, Romance]  \n",
              "\n",
              "[100 rows x 3 columns]"
            ],
            "text/html": [
              "\n",
              "  <div id=\"df-aeada5b3-14bb-4177-8c67-514df7cce4f6\">\n",
              "    <div class=\"colab-df-container\">\n",
              "      <div>\n",
              "<style scoped>\n",
              "    .dataframe tbody tr th:only-of-type {\n",
              "        vertical-align: middle;\n",
              "    }\n",
              "\n",
              "    .dataframe tbody tr th {\n",
              "        vertical-align: top;\n",
              "    }\n",
              "\n",
              "    .dataframe thead th {\n",
              "        text-align: right;\n",
              "    }\n",
              "</style>\n",
              "<table border=\"1\" class=\"dataframe\">\n",
              "  <thead>\n",
              "    <tr style=\"text-align: right;\">\n",
              "      <th></th>\n",
              "      <th>movieId</th>\n",
              "      <th>title</th>\n",
              "      <th>genres</th>\n",
              "    </tr>\n",
              "  </thead>\n",
              "  <tbody>\n",
              "    <tr>\n",
              "      <th>0</th>\n",
              "      <td>1</td>\n",
              "      <td>Toy Story (1995)</td>\n",
              "      <td>[Adventure, Animation, Children, Comedy, Fantasy]</td>\n",
              "    </tr>\n",
              "    <tr>\n",
              "      <th>1</th>\n",
              "      <td>2</td>\n",
              "      <td>Jumanji (1995)</td>\n",
              "      <td>[Adventure, Children, Fantasy]</td>\n",
              "    </tr>\n",
              "    <tr>\n",
              "      <th>2</th>\n",
              "      <td>3</td>\n",
              "      <td>Grumpier Old Men (1995)</td>\n",
              "      <td>[Comedy, Romance]</td>\n",
              "    </tr>\n",
              "    <tr>\n",
              "      <th>3</th>\n",
              "      <td>4</td>\n",
              "      <td>Waiting to Exhale (1995)</td>\n",
              "      <td>[Comedy, Drama, Romance]</td>\n",
              "    </tr>\n",
              "    <tr>\n",
              "      <th>4</th>\n",
              "      <td>5</td>\n",
              "      <td>Father of the Bride Part II (1995)</td>\n",
              "      <td>[Comedy]</td>\n",
              "    </tr>\n",
              "    <tr>\n",
              "      <th>...</th>\n",
              "      <td>...</td>\n",
              "      <td>...</td>\n",
              "      <td>...</td>\n",
              "    </tr>\n",
              "    <tr>\n",
              "      <th>95</th>\n",
              "      <td>97</td>\n",
              "      <td>Hate (Haine, La) (1995)</td>\n",
              "      <td>[Crime, Drama]</td>\n",
              "    </tr>\n",
              "    <tr>\n",
              "      <th>96</th>\n",
              "      <td>98</td>\n",
              "      <td>Shopping (1994)</td>\n",
              "      <td>[Action, Thriller]</td>\n",
              "    </tr>\n",
              "    <tr>\n",
              "      <th>97</th>\n",
              "      <td>99</td>\n",
              "      <td>Heidi Fleiss: Hollywood Madam (1995)</td>\n",
              "      <td>[Documentary]</td>\n",
              "    </tr>\n",
              "    <tr>\n",
              "      <th>98</th>\n",
              "      <td>100</td>\n",
              "      <td>City Hall (1996)</td>\n",
              "      <td>[Drama, Thriller]</td>\n",
              "    </tr>\n",
              "    <tr>\n",
              "      <th>99</th>\n",
              "      <td>101</td>\n",
              "      <td>Bottle Rocket (1996)</td>\n",
              "      <td>[Adventure, Comedy, Crime, Romance]</td>\n",
              "    </tr>\n",
              "  </tbody>\n",
              "</table>\n",
              "<p>100 rows × 3 columns</p>\n",
              "</div>\n",
              "      <button class=\"colab-df-convert\" onclick=\"convertToInteractive('df-aeada5b3-14bb-4177-8c67-514df7cce4f6')\"\n",
              "              title=\"Convert this dataframe to an interactive table.\"\n",
              "              style=\"display:none;\">\n",
              "        \n",
              "  <svg xmlns=\"http://www.w3.org/2000/svg\" height=\"24px\"viewBox=\"0 0 24 24\"\n",
              "       width=\"24px\">\n",
              "    <path d=\"M0 0h24v24H0V0z\" fill=\"none\"/>\n",
              "    <path d=\"M18.56 5.44l.94 2.06.94-2.06 2.06-.94-2.06-.94-.94-2.06-.94 2.06-2.06.94zm-11 1L8.5 8.5l.94-2.06 2.06-.94-2.06-.94L8.5 2.5l-.94 2.06-2.06.94zm10 10l.94 2.06.94-2.06 2.06-.94-2.06-.94-.94-2.06-.94 2.06-2.06.94z\"/><path d=\"M17.41 7.96l-1.37-1.37c-.4-.4-.92-.59-1.43-.59-.52 0-1.04.2-1.43.59L10.3 9.45l-7.72 7.72c-.78.78-.78 2.05 0 2.83L4 21.41c.39.39.9.59 1.41.59.51 0 1.02-.2 1.41-.59l7.78-7.78 2.81-2.81c.8-.78.8-2.07 0-2.86zM5.41 20L4 18.59l7.72-7.72 1.47 1.35L5.41 20z\"/>\n",
              "  </svg>\n",
              "      </button>\n",
              "      \n",
              "  <style>\n",
              "    .colab-df-container {\n",
              "      display:flex;\n",
              "      flex-wrap:wrap;\n",
              "      gap: 12px;\n",
              "    }\n",
              "\n",
              "    .colab-df-convert {\n",
              "      background-color: #E8F0FE;\n",
              "      border: none;\n",
              "      border-radius: 50%;\n",
              "      cursor: pointer;\n",
              "      display: none;\n",
              "      fill: #1967D2;\n",
              "      height: 32px;\n",
              "      padding: 0 0 0 0;\n",
              "      width: 32px;\n",
              "    }\n",
              "\n",
              "    .colab-df-convert:hover {\n",
              "      background-color: #E2EBFA;\n",
              "      box-shadow: 0px 1px 2px rgba(60, 64, 67, 0.3), 0px 1px 3px 1px rgba(60, 64, 67, 0.15);\n",
              "      fill: #174EA6;\n",
              "    }\n",
              "\n",
              "    [theme=dark] .colab-df-convert {\n",
              "      background-color: #3B4455;\n",
              "      fill: #D2E3FC;\n",
              "    }\n",
              "\n",
              "    [theme=dark] .colab-df-convert:hover {\n",
              "      background-color: #434B5C;\n",
              "      box-shadow: 0px 1px 3px 1px rgba(0, 0, 0, 0.15);\n",
              "      filter: drop-shadow(0px 1px 2px rgba(0, 0, 0, 0.3));\n",
              "      fill: #FFFFFF;\n",
              "    }\n",
              "  </style>\n",
              "\n",
              "      <script>\n",
              "        const buttonEl =\n",
              "          document.querySelector('#df-aeada5b3-14bb-4177-8c67-514df7cce4f6 button.colab-df-convert');\n",
              "        buttonEl.style.display =\n",
              "          google.colab.kernel.accessAllowed ? 'block' : 'none';\n",
              "\n",
              "        async function convertToInteractive(key) {\n",
              "          const element = document.querySelector('#df-aeada5b3-14bb-4177-8c67-514df7cce4f6');\n",
              "          const dataTable =\n",
              "            await google.colab.kernel.invokeFunction('convertToInteractive',\n",
              "                                                     [key], {});\n",
              "          if (!dataTable) return;\n",
              "\n",
              "          const docLinkHtml = 'Like what you see? Visit the ' +\n",
              "            '<a target=\"_blank\" href=https://colab.research.google.com/notebooks/data_table.ipynb>data table notebook</a>'\n",
              "            + ' to learn more about interactive tables.';\n",
              "          element.innerHTML = '';\n",
              "          dataTable['output_type'] = 'display_data';\n",
              "          await google.colab.output.renderOutput(dataTable, element);\n",
              "          const docLink = document.createElement('div');\n",
              "          docLink.innerHTML = docLinkHtml;\n",
              "          element.appendChild(docLink);\n",
              "        }\n",
              "      </script>\n",
              "    </div>\n",
              "  </div>\n",
              "  "
            ]
          },
          "metadata": {},
          "execution_count": 47
        }
      ]
    },
    {
      "cell_type": "code",
      "source": [
        "unique_genre = []\n",
        "def getGenres(datas,column_name):\n",
        "  unique_genre = set()\n",
        "  for x in datas[column_name]:\n",
        "    unique_genre.update(x)\n",
        "  return sorted(list(unique_genre))\n",
        "\n",
        "unique_genre = getGenres(movies_df_100,\"genres\")\n",
        "print(unique_genre)\n",
        "\n",
        "string_look_up = tf.keras.layers.StringLookup(vocabulary=unique_genre)"
      ],
      "metadata": {
        "colab": {
          "base_uri": "https://localhost:8080/"
        },
        "id": "3H3QccTJm1R2",
        "outputId": "f0137fe1-374b-401f-945b-da0fbb82a739"
      },
      "execution_count": 48,
      "outputs": [
        {
          "output_type": "stream",
          "name": "stdout",
          "text": [
            "['Action', 'Adventure', 'Animation', 'Children', 'Comedy', 'Crime', 'Documentary', 'Drama', 'Fantasy', 'Horror', 'IMAX', 'Musical', 'Mystery', 'Romance', 'Sci-Fi', 'Thriller', 'War']\n"
          ]
        }
      ]
    },
    {
      "cell_type": "markdown",
      "source": [
        "## One Hot Encoding"
      ],
      "metadata": {
        "id": "i-3-b-kLuiOy"
      }
    },
    {
      "cell_type": "code",
      "source": [
        "print(list(movies_df_100.genres))"
      ],
      "metadata": {
        "colab": {
          "base_uri": "https://localhost:8080/"
        },
        "id": "6X4FR0aowTNW",
        "outputId": "0e3d8070-6514-4c5f-fcc1-1c6d88531088"
      },
      "execution_count": 49,
      "outputs": [
        {
          "output_type": "stream",
          "name": "stdout",
          "text": [
            "[['Adventure', 'Animation', 'Children', 'Comedy', 'Fantasy'], ['Adventure', 'Children', 'Fantasy'], ['Comedy', 'Romance'], ['Comedy', 'Drama', 'Romance'], ['Comedy'], ['Action', 'Crime', 'Thriller'], ['Comedy', 'Romance'], ['Adventure', 'Children'], ['Action'], ['Action', 'Adventure', 'Thriller'], ['Comedy', 'Drama', 'Romance'], ['Comedy', 'Horror'], ['Adventure', 'Animation', 'Children'], ['Drama'], ['Action', 'Adventure', 'Romance'], ['Crime', 'Drama'], ['Drama', 'Romance'], ['Comedy'], ['Comedy'], ['Action', 'Comedy', 'Crime', 'Drama', 'Thriller'], ['Comedy', 'Crime', 'Thriller'], ['Crime', 'Drama', 'Horror', 'Mystery', 'Thriller'], ['Action', 'Crime', 'Thriller'], ['Drama', 'Sci-Fi'], ['Drama', 'Romance'], ['Drama'], ['Children', 'Drama'], ['Drama', 'Romance'], ['Adventure', 'Drama', 'Fantasy', 'Mystery', 'Sci-Fi'], ['Crime', 'Drama'], ['Drama'], ['Mystery', 'Sci-Fi', 'Thriller'], ['Adventure', 'Romance', 'IMAX'], ['Children', 'Drama'], ['Drama', 'Romance'], ['Crime', 'Drama'], ['Documentary', 'IMAX'], ['Children', 'Comedy'], ['Comedy', 'Romance'], ['Drama'], ['Drama', 'War'], ['Action', 'Crime', 'Drama'], ['Drama'], ['Action', 'Adventure', 'Fantasy'], ['Comedy', 'Drama', 'Thriller'], ['Drama', 'Romance'], ['Mystery', 'Thriller'], ['Animation', 'Children', 'Drama', 'Musical', 'Romance'], ['Drama', 'Romance'], ['Crime', 'Mystery', 'Thriller'], ['Action', 'Drama', 'Thriller'], ['Comedy', 'Drama', 'Romance'], ['Adventure', 'Drama'], ['Children', 'Comedy'], ['Drama'], ['Adventure', 'Children', 'Comedy', 'Fantasy'], ['Drama'], ['Comedy', 'Drama', 'Romance'], ['Drama', 'Mystery'], ['Adventure', 'Children', 'Fantasy'], ['Drama', 'Thriller'], ['Drama'], ['Comedy', 'Crime'], ['Comedy', 'Romance'], ['Comedy'], ['Action', 'Sci-Fi', 'Thriller'], ['Drama'], ['Comedy', 'Romance'], ['Comedy'], ['Action', 'Comedy', 'Horror', 'Thriller'], ['Action'], ['Comedy', 'Drama'], ['Drama', 'War'], ['Drama', 'Romance'], ['Comedy', 'Drama'], ['Action', 'Sci-Fi', 'Thriller'], ['Documentary'], ['Action', 'Crime', 'Drama', 'Thriller'], ['Drama', 'Thriller'], ['Children', 'Drama'], ['Crime', 'Drama', 'Romance'], ['Comedy', 'Drama'], ['Drama', 'Romance'], ['Comedy', 'Drama'], ['Drama', 'Romance'], ['Action', 'Adventure', 'Drama'], ['Children', 'Comedy'], ['Comedy'], ['Action', 'Thriller'], ['Drama'], ['Drama', 'Horror', 'Thriller'], ['Comedy', 'Horror', 'Romance'], ['Comedy', 'Drama', 'Romance'], ['Action', 'Adventure', 'Thriller'], ['Comedy', 'Drama'], ['Crime', 'Drama'], ['Action', 'Thriller'], ['Documentary'], ['Drama', 'Thriller'], ['Adventure', 'Comedy', 'Crime', 'Romance']]\n"
          ]
        }
      ]
    },
    {
      "cell_type": "code",
      "source": [
        "from sklearn.preprocessing import MultiLabelBinarizer\n",
        "\n",
        "features = list(movies_df_100.genres)\n",
        "mlb = MultiLabelBinarizer()\n",
        "new_features = mlb.fit_transform(features)\n",
        "print(type(new_features))"
      ],
      "metadata": {
        "colab": {
          "base_uri": "https://localhost:8080/"
        },
        "id": "KPATUCosuhrY",
        "outputId": "4a3a1e54-050d-4fa7-cc76-21b4cb44fa00"
      },
      "execution_count": 50,
      "outputs": [
        {
          "output_type": "stream",
          "name": "stdout",
          "text": [
            "<class 'numpy.ndarray'>\n"
          ]
        }
      ]
    },
    {
      "cell_type": "code",
      "source": [
        "print(mlb.inverse_transform(new_features))"
      ],
      "metadata": {
        "colab": {
          "base_uri": "https://localhost:8080/"
        },
        "id": "pWWXaEMiw90k",
        "outputId": "997e750b-0ed2-4904-f743-080f41451896"
      },
      "execution_count": 51,
      "outputs": [
        {
          "output_type": "stream",
          "name": "stdout",
          "text": [
            "[('Adventure', 'Animation', 'Children', 'Comedy', 'Fantasy'), ('Adventure', 'Children', 'Fantasy'), ('Comedy', 'Romance'), ('Comedy', 'Drama', 'Romance'), ('Comedy',), ('Action', 'Crime', 'Thriller'), ('Comedy', 'Romance'), ('Adventure', 'Children'), ('Action',), ('Action', 'Adventure', 'Thriller'), ('Comedy', 'Drama', 'Romance'), ('Comedy', 'Horror'), ('Adventure', 'Animation', 'Children'), ('Drama',), ('Action', 'Adventure', 'Romance'), ('Crime', 'Drama'), ('Drama', 'Romance'), ('Comedy',), ('Comedy',), ('Action', 'Comedy', 'Crime', 'Drama', 'Thriller'), ('Comedy', 'Crime', 'Thriller'), ('Crime', 'Drama', 'Horror', 'Mystery', 'Thriller'), ('Action', 'Crime', 'Thriller'), ('Drama', 'Sci-Fi'), ('Drama', 'Romance'), ('Drama',), ('Children', 'Drama'), ('Drama', 'Romance'), ('Adventure', 'Drama', 'Fantasy', 'Mystery', 'Sci-Fi'), ('Crime', 'Drama'), ('Drama',), ('Mystery', 'Sci-Fi', 'Thriller'), ('Adventure', 'IMAX', 'Romance'), ('Children', 'Drama'), ('Drama', 'Romance'), ('Crime', 'Drama'), ('Documentary', 'IMAX'), ('Children', 'Comedy'), ('Comedy', 'Romance'), ('Drama',), ('Drama', 'War'), ('Action', 'Crime', 'Drama'), ('Drama',), ('Action', 'Adventure', 'Fantasy'), ('Comedy', 'Drama', 'Thriller'), ('Drama', 'Romance'), ('Mystery', 'Thriller'), ('Animation', 'Children', 'Drama', 'Musical', 'Romance'), ('Drama', 'Romance'), ('Crime', 'Mystery', 'Thriller'), ('Action', 'Drama', 'Thriller'), ('Comedy', 'Drama', 'Romance'), ('Adventure', 'Drama'), ('Children', 'Comedy'), ('Drama',), ('Adventure', 'Children', 'Comedy', 'Fantasy'), ('Drama',), ('Comedy', 'Drama', 'Romance'), ('Drama', 'Mystery'), ('Adventure', 'Children', 'Fantasy'), ('Drama', 'Thriller'), ('Drama',), ('Comedy', 'Crime'), ('Comedy', 'Romance'), ('Comedy',), ('Action', 'Sci-Fi', 'Thriller'), ('Drama',), ('Comedy', 'Romance'), ('Comedy',), ('Action', 'Comedy', 'Horror', 'Thriller'), ('Action',), ('Comedy', 'Drama'), ('Drama', 'War'), ('Drama', 'Romance'), ('Comedy', 'Drama'), ('Action', 'Sci-Fi', 'Thriller'), ('Documentary',), ('Action', 'Crime', 'Drama', 'Thriller'), ('Drama', 'Thriller'), ('Children', 'Drama'), ('Crime', 'Drama', 'Romance'), ('Comedy', 'Drama'), ('Drama', 'Romance'), ('Comedy', 'Drama'), ('Drama', 'Romance'), ('Action', 'Adventure', 'Drama'), ('Children', 'Comedy'), ('Comedy',), ('Action', 'Thriller'), ('Drama',), ('Drama', 'Horror', 'Thriller'), ('Comedy', 'Horror', 'Romance'), ('Comedy', 'Drama', 'Romance'), ('Action', 'Adventure', 'Thriller'), ('Comedy', 'Drama'), ('Crime', 'Drama'), ('Action', 'Thriller'), ('Documentary',), ('Drama', 'Thriller'), ('Adventure', 'Comedy', 'Crime', 'Romance')]\n"
          ]
        }
      ]
    },
    {
      "cell_type": "code",
      "source": [
        "movies_from_csv = []\n",
        "# df100 = df100.reset_index()\n",
        "movie_genres = []\n",
        "movie_ids = []\n",
        "movie_titles = []\n",
        "for index,x in movies_df_100.iterrows():\n",
        "  # print(x[\"genres\"])\n",
        "  movie_genres.append(tf.constant(new_features))\n",
        "  movie_ids.append(tf.constant(value = x[\"movieId\"],dtype = tf.string))\n",
        "  movie_titles.append(tf.constant(x[\"title\"]))\n",
        "\n",
        "#   movies_from_csv.append({\n",
        "#       \"movie_genres\": tf.constant(new_features),\n",
        "#       \"movie_id\": tf.constant(value = x[\"movieId\"],dtype = tf.string),\n",
        "#       \"movie_title\": tf.constant(x[\"title\"])\n",
        "#   })\n",
        "\n",
        "# pprint.pprint(movies_from_csv[:3])\n",
        "print(movie_genres[:5])"
      ],
      "metadata": {
        "colab": {
          "base_uri": "https://localhost:8080/"
        },
        "id": "RM7oNr1fl90P",
        "outputId": "64982ddd-6400-4861-f3ba-6d77ccacbd17"
      },
      "execution_count": 52,
      "outputs": [
        {
          "output_type": "stream",
          "name": "stdout",
          "text": [
            "[<tf.Tensor: shape=(100, 17), dtype=int64, numpy=\n",
            "array([[0, 1, 1, ..., 0, 0, 0],\n",
            "       [0, 1, 0, ..., 0, 0, 0],\n",
            "       [0, 0, 0, ..., 0, 0, 0],\n",
            "       ...,\n",
            "       [0, 0, 0, ..., 0, 0, 0],\n",
            "       [0, 0, 0, ..., 0, 1, 0],\n",
            "       [0, 1, 0, ..., 0, 0, 0]])>, <tf.Tensor: shape=(100, 17), dtype=int64, numpy=\n",
            "array([[0, 1, 1, ..., 0, 0, 0],\n",
            "       [0, 1, 0, ..., 0, 0, 0],\n",
            "       [0, 0, 0, ..., 0, 0, 0],\n",
            "       ...,\n",
            "       [0, 0, 0, ..., 0, 0, 0],\n",
            "       [0, 0, 0, ..., 0, 1, 0],\n",
            "       [0, 1, 0, ..., 0, 0, 0]])>, <tf.Tensor: shape=(100, 17), dtype=int64, numpy=\n",
            "array([[0, 1, 1, ..., 0, 0, 0],\n",
            "       [0, 1, 0, ..., 0, 0, 0],\n",
            "       [0, 0, 0, ..., 0, 0, 0],\n",
            "       ...,\n",
            "       [0, 0, 0, ..., 0, 0, 0],\n",
            "       [0, 0, 0, ..., 0, 1, 0],\n",
            "       [0, 1, 0, ..., 0, 0, 0]])>, <tf.Tensor: shape=(100, 17), dtype=int64, numpy=\n",
            "array([[0, 1, 1, ..., 0, 0, 0],\n",
            "       [0, 1, 0, ..., 0, 0, 0],\n",
            "       [0, 0, 0, ..., 0, 0, 0],\n",
            "       ...,\n",
            "       [0, 0, 0, ..., 0, 0, 0],\n",
            "       [0, 0, 0, ..., 0, 1, 0],\n",
            "       [0, 1, 0, ..., 0, 0, 0]])>, <tf.Tensor: shape=(100, 17), dtype=int64, numpy=\n",
            "array([[0, 1, 1, ..., 0, 0, 0],\n",
            "       [0, 1, 0, ..., 0, 0, 0],\n",
            "       [0, 0, 0, ..., 0, 0, 0],\n",
            "       ...,\n",
            "       [0, 0, 0, ..., 0, 0, 0],\n",
            "       [0, 0, 0, ..., 0, 1, 0],\n",
            "       [0, 1, 0, ..., 0, 0, 0]])>]\n"
          ]
        }
      ]
    },
    {
      "cell_type": "code",
      "source": [
        "\n",
        "m_i = []\n",
        "t_s = []\n",
        "u_i = []\n",
        "u_r = []\n",
        "# userId\tmovieId\trating\ttimestamp\n",
        "\n",
        "for index,x in ratings_df_100.iterrows():\n",
        "  m_i.append(tf.constant(x[\"movieId\"]))\n",
        "  t_s.append(tf.constant(x[\"timestamp\"], dtype = np.int64))\n",
        "  u_i.append(tf.constant(x[\"userId\"]))\n",
        "  u_r.append(tf.constant(x[\"rating\"]))\n",
        "print(m_i[:3])\n",
        "print(t_s[:3])\n",
        "print(u_i[:3])\n",
        "print(u_r[:3])"
      ],
      "metadata": {
        "colab": {
          "base_uri": "https://localhost:8080/"
        },
        "id": "T3fVfzyv1taq",
        "outputId": "a5abf71c-6641-446c-9465-b56d51239fcb"
      },
      "execution_count": 53,
      "outputs": [
        {
          "output_type": "stream",
          "name": "stdout",
          "text": [
            "[<tf.Tensor: shape=(), dtype=string, numpy=b'296'>, <tf.Tensor: shape=(), dtype=string, numpy=b'306'>, <tf.Tensor: shape=(), dtype=string, numpy=b'307'>]\n",
            "[<tf.Tensor: shape=(), dtype=int64, numpy=1147880044>, <tf.Tensor: shape=(), dtype=int64, numpy=1147868817>, <tf.Tensor: shape=(), dtype=int64, numpy=1147868828>]\n",
            "[<tf.Tensor: shape=(), dtype=string, numpy=b'1'>, <tf.Tensor: shape=(), dtype=string, numpy=b'1'>, <tf.Tensor: shape=(), dtype=string, numpy=b'1'>]\n",
            "[<tf.Tensor: shape=(), dtype=float32, numpy=5.0>, <tf.Tensor: shape=(), dtype=float32, numpy=3.5>, <tf.Tensor: shape=(), dtype=float32, numpy=5.0>]\n"
          ]
        }
      ]
    },
    {
      "cell_type": "markdown",
      "source": [
        "Ini yang jadi penyama format dataset yang dari tfds ataupun custom dari csv"
      ],
      "metadata": {
        "id": "aBY9hRT1BNwY"
      }
    },
    {
      "cell_type": "code",
      "source": [
        "movies = tf.data.Dataset.from_tensor_slices({\"movie_genres\":movie_genres ,\"movie_id\": movie_ids, \"movie_title\":movie_titles}) \n",
        "ratings = tf.data.Dataset.from_tensor_slices({\"movieId\":m_i ,\"timestamp\": t_s, \"userId\":u_i, \"rating\":u_r}) "
      ],
      "metadata": {
        "id": "6nsYR61CrZtO"
      },
      "execution_count": 54,
      "outputs": []
    },
    {
      "cell_type": "code",
      "source": [
        "for i in movies.take(3):\n",
        "  print(i)\n",
        "print()\n",
        "for i in ratings.take(3):\n",
        "  print(i)"
      ],
      "metadata": {
        "colab": {
          "base_uri": "https://localhost:8080/"
        },
        "id": "L-1w8W4wnGK7",
        "outputId": "9d9424c5-97e5-443d-a503-bed3f6b062fc"
      },
      "execution_count": 55,
      "outputs": [
        {
          "output_type": "stream",
          "name": "stdout",
          "text": [
            "{'movie_genres': <tf.Tensor: shape=(100, 17), dtype=int64, numpy=\n",
            "array([[0, 1, 1, ..., 0, 0, 0],\n",
            "       [0, 1, 0, ..., 0, 0, 0],\n",
            "       [0, 0, 0, ..., 0, 0, 0],\n",
            "       ...,\n",
            "       [0, 0, 0, ..., 0, 0, 0],\n",
            "       [0, 0, 0, ..., 0, 1, 0],\n",
            "       [0, 1, 0, ..., 0, 0, 0]])>, 'movie_id': <tf.Tensor: shape=(), dtype=string, numpy=b'1'>, 'movie_title': <tf.Tensor: shape=(), dtype=string, numpy=b'Toy Story (1995)'>}\n",
            "{'movie_genres': <tf.Tensor: shape=(100, 17), dtype=int64, numpy=\n",
            "array([[0, 1, 1, ..., 0, 0, 0],\n",
            "       [0, 1, 0, ..., 0, 0, 0],\n",
            "       [0, 0, 0, ..., 0, 0, 0],\n",
            "       ...,\n",
            "       [0, 0, 0, ..., 0, 0, 0],\n",
            "       [0, 0, 0, ..., 0, 1, 0],\n",
            "       [0, 1, 0, ..., 0, 0, 0]])>, 'movie_id': <tf.Tensor: shape=(), dtype=string, numpy=b'2'>, 'movie_title': <tf.Tensor: shape=(), dtype=string, numpy=b'Jumanji (1995)'>}\n",
            "{'movie_genres': <tf.Tensor: shape=(100, 17), dtype=int64, numpy=\n",
            "array([[0, 1, 1, ..., 0, 0, 0],\n",
            "       [0, 1, 0, ..., 0, 0, 0],\n",
            "       [0, 0, 0, ..., 0, 0, 0],\n",
            "       ...,\n",
            "       [0, 0, 0, ..., 0, 0, 0],\n",
            "       [0, 0, 0, ..., 0, 1, 0],\n",
            "       [0, 1, 0, ..., 0, 0, 0]])>, 'movie_id': <tf.Tensor: shape=(), dtype=string, numpy=b'3'>, 'movie_title': <tf.Tensor: shape=(), dtype=string, numpy=b'Grumpier Old Men (1995)'>}\n",
            "\n",
            "{'movieId': <tf.Tensor: shape=(), dtype=string, numpy=b'296'>, 'timestamp': <tf.Tensor: shape=(), dtype=int64, numpy=1147880044>, 'userId': <tf.Tensor: shape=(), dtype=string, numpy=b'1'>, 'rating': <tf.Tensor: shape=(), dtype=float32, numpy=5.0>}\n",
            "{'movieId': <tf.Tensor: shape=(), dtype=string, numpy=b'306'>, 'timestamp': <tf.Tensor: shape=(), dtype=int64, numpy=1147868817>, 'userId': <tf.Tensor: shape=(), dtype=string, numpy=b'1'>, 'rating': <tf.Tensor: shape=(), dtype=float32, numpy=3.5>}\n",
            "{'movieId': <tf.Tensor: shape=(), dtype=string, numpy=b'307'>, 'timestamp': <tf.Tensor: shape=(), dtype=int64, numpy=1147868828>, 'userId': <tf.Tensor: shape=(), dtype=string, numpy=b'1'>, 'rating': <tf.Tensor: shape=(), dtype=float32, numpy=5.0>}\n"
          ]
        }
      ]
    },
    {
      "cell_type": "markdown",
      "source": [
        "## Start Extract Main Data"
      ],
      "metadata": {
        "id": "OXJkQ-ql0Xj-"
      }
    },
    {
      "cell_type": "markdown",
      "source": [
        "Intinya, di retrieval model, model ngebuat matrix fitur gitu... \n",
        "Ada 2 bagian di contohnya(bisa disesuain nantinya):\n",
        "- query tower\n",
        "- candidate tower\n",
        "\n",
        "\n",
        "yang bagian kolomnya akan berisi userId, yang bagian row rownya akan bernilai movieID ataupun movieTitle.\n",
        "\n",
        "Karna dataset sedikit berbeda antara yang movielens100k dan movielens25M...gw gunain data yang sama, yaitu movieId... \n",
        "\n",
        "seharusnya sih movieTitle\n",
        "\n",
        "tapi gamasalah"
      ],
      "metadata": {
        "id": "3ge8Hlg-BWeK"
      }
    },
    {
      "cell_type": "code",
      "source": [
        "movies = movies.map(lambda x: x[\"movie_id\"])\n",
        "ratings = ratings.map(lambda x: {\n",
        "    \"movieId\": x[\"movieId\"],\n",
        "    \"userId\": x[\"userId\"],\n",
        "})"
      ],
      "metadata": {
        "id": "b9gc2RZXyy-v"
      },
      "execution_count": 56,
      "outputs": []
    },
    {
      "cell_type": "code",
      "source": [
        "for i in ratings.take(3):\n",
        "  print(i)\n",
        "for i in movies.take(3):\n",
        "  print(i)\n",
        "print(len(list(ratings.as_numpy_iterator())))"
      ],
      "metadata": {
        "colab": {
          "base_uri": "https://localhost:8080/"
        },
        "id": "z13_ydZT9fE9",
        "outputId": "180ae2b0-568f-4a1d-ea3a-02dbade43448"
      },
      "execution_count": 57,
      "outputs": [
        {
          "output_type": "stream",
          "name": "stdout",
          "text": [
            "{'movieId': <tf.Tensor: shape=(), dtype=string, numpy=b'296'>, 'userId': <tf.Tensor: shape=(), dtype=string, numpy=b'1'>}\n",
            "{'movieId': <tf.Tensor: shape=(), dtype=string, numpy=b'306'>, 'userId': <tf.Tensor: shape=(), dtype=string, numpy=b'1'>}\n",
            "{'movieId': <tf.Tensor: shape=(), dtype=string, numpy=b'307'>, 'userId': <tf.Tensor: shape=(), dtype=string, numpy=b'1'>}\n",
            "tf.Tensor(b'1', shape=(), dtype=string)\n",
            "tf.Tensor(b'2', shape=(), dtype=string)\n",
            "tf.Tensor(b'3', shape=(), dtype=string)\n",
            "100\n"
          ]
        }
      ]
    },
    {
      "cell_type": "code",
      "source": [
        "tf.random.set_seed(42)\n",
        "shuffled = ratings.shuffle(100, seed=42, reshuffle_each_iteration=False)\n",
        "\n",
        "train = shuffled.take(80)\n",
        "test = shuffled.skip(80).take(20)"
      ],
      "metadata": {
        "id": "u4mhituQ0bzT"
      },
      "execution_count": 58,
      "outputs": []
    },
    {
      "cell_type": "code",
      "source": [
        "for i in train.take(3):\n",
        "  print(i)"
      ],
      "metadata": {
        "colab": {
          "base_uri": "https://localhost:8080/"
        },
        "id": "50j767w099Lf",
        "outputId": "a9a553ad-20f3-4987-dcdc-7d215ca349c3"
      },
      "execution_count": 59,
      "outputs": [
        {
          "output_type": "stream",
          "name": "stdout",
          "text": [
            "{'movieId': <tf.Tensor: shape=(), dtype=string, numpy=b'5767'>, 'userId': <tf.Tensor: shape=(), dtype=string, numpy=b'1'>}\n",
            "{'movieId': <tf.Tensor: shape=(), dtype=string, numpy=b'7327'>, 'userId': <tf.Tensor: shape=(), dtype=string, numpy=b'1'>}\n",
            "{'movieId': <tf.Tensor: shape=(), dtype=string, numpy=b'5878'>, 'userId': <tf.Tensor: shape=(), dtype=string, numpy=b'1'>}\n"
          ]
        }
      ]
    },
    {
      "cell_type": "code",
      "source": [
        "movie_titles = movies.batch(10)\n",
        "user_ids = ratings.batch(10).map(lambda x: x[\"userId\"])\n",
        "\n",
        "unique_movie_titles = np.unique(np.concatenate(list(movie_titles)))\n",
        "unique_user_ids = np.unique(np.concatenate(list(user_ids)))\n",
        "\n",
        "unique_movie_titles[:10]"
      ],
      "metadata": {
        "colab": {
          "base_uri": "https://localhost:8080/"
        },
        "id": "q5pymgaz0dTW",
        "outputId": "e1687cb8-9088-477e-d300-ea8738348798"
      },
      "execution_count": 60,
      "outputs": [
        {
          "output_type": "execute_result",
          "data": {
            "text/plain": [
              "array([b'1', b'10', b'100', b'101', b'11', b'12', b'13', b'14', b'15',\n",
              "       b'16'], dtype=object)"
            ]
          },
          "metadata": {},
          "execution_count": 60
        }
      ]
    },
    {
      "cell_type": "markdown",
      "source": [
        "## Query TOwer"
      ],
      "metadata": {
        "id": "3xaT6Nmo7FUC"
      }
    },
    {
      "cell_type": "code",
      "source": [
        "embedding_dimension = 32\n",
        "\n",
        "user_model = tf.keras.Sequential([\n",
        "  tf.keras.layers.StringLookup(\n",
        "      vocabulary=unique_user_ids, mask_token=None),\n",
        "  # We add an additional embedding to account for unknown tokens.\n",
        "  tf.keras.layers.Embedding(len(unique_user_ids) + 1, embedding_dimension)\n",
        "])"
      ],
      "metadata": {
        "id": "HQjNbYo061Bp"
      },
      "execution_count": 61,
      "outputs": []
    },
    {
      "cell_type": "markdown",
      "source": [
        "## Candidate Tower"
      ],
      "metadata": {
        "id": "Yb3fp-0p7Jnq"
      }
    },
    {
      "cell_type": "code",
      "source": [
        "movie_model = tf.keras.Sequential([\n",
        "  tf.keras.layers.StringLookup(\n",
        "      vocabulary=unique_movie_titles, mask_token=None),\n",
        "  tf.keras.layers.Embedding(len(unique_movie_titles) + 1, embedding_dimension)\n",
        "])"
      ],
      "metadata": {
        "id": "OGTc4Xls7JHI"
      },
      "execution_count": 62,
      "outputs": []
    },
    {
      "cell_type": "code",
      "source": [
        "metrics = tfrs.metrics.FactorizedTopK(\n",
        "  candidates=movies.batch(128).map(movie_model)\n",
        ")\n",
        "task = tfrs.tasks.Retrieval(\n",
        "  metrics=metrics\n",
        ")"
      ],
      "metadata": {
        "id": "qU4wrHFV7Nqr"
      },
      "execution_count": 63,
      "outputs": []
    },
    {
      "cell_type": "code",
      "source": [
        "class MovielensModel(tfrs.Model):\n",
        "\n",
        "  def __init__(self, user_model, movie_model):\n",
        "    super().__init__()\n",
        "    self.movie_model: tf.keras.Model = movie_model\n",
        "    self.user_model: tf.keras.Model = user_model\n",
        "    self.task: tf.keras.layers.Layer = task\n",
        "\n",
        "  def compute_loss(self, features: Dict[Text, tf.Tensor], training=False) -> tf.Tensor:\n",
        "    # We pick out the user features and pass them into the user model.\n",
        "    print(features)\n",
        "    user_embeddings = self.user_model(features[\"userId\"])\n",
        "    # And pick out the movie features and pass them into the movie model,\n",
        "    # getting embeddings back.\n",
        "    positive_movie_embeddings = self.movie_model(features[\"movieId\"])\n",
        "\n",
        "    # The task computes the loss and the metrics.\n",
        "    return self.task(user_embeddings, positive_movie_embeddings)"
      ],
      "metadata": {
        "id": "cRRpjTyL7MmJ"
      },
      "execution_count": 87,
      "outputs": []
    },
    {
      "cell_type": "code",
      "source": [
        "class NoBaseClassMovielensModel(tf.keras.Model):\n",
        "\n",
        "  def __init__(self, user_model, movie_model):\n",
        "    super().__init__()\n",
        "    self.movie_model: tf.keras.Model = movie_model\n",
        "    self.user_model: tf.keras.Model = user_model\n",
        "    self.task: tf.keras.layers.Layer = task\n",
        "\n",
        "  def train_step(self, features: Dict[Text, tf.Tensor]) -> tf.Tensor:\n",
        "\n",
        "    # Set up a gradient tape to record gradients.\n",
        "    with tf.GradientTape() as tape:\n",
        "\n",
        "      # Loss computation.\n",
        "      user_embeddings = self.user_model(features[\"userId\"])\n",
        "      positive_movie_embeddings = self.movie_model(features[\"movieId\"])\n",
        "      loss = self.task(user_embeddings, positive_movie_embeddings)\n",
        "\n",
        "      # Handle regularization losses as well.\n",
        "      regularization_loss = sum(self.losses)\n",
        "\n",
        "      total_loss = loss + regularization_loss\n",
        "\n",
        "    gradients = tape.gradient(total_loss, self.trainable_variables)\n",
        "    self.optimizer.apply_gradients(zip(gradients, self.trainable_variables))\n",
        "\n",
        "    metrics = {metric.name: metric.result() for metric in self.metrics}\n",
        "    metrics[\"loss\"] = loss\n",
        "    metrics[\"regularization_loss\"] = regularization_loss\n",
        "    metrics[\"total_loss\"] = total_loss\n",
        "\n",
        "    return metrics\n",
        "\n",
        "  def test_step(self, features: Dict[Text, tf.Tensor]) -> tf.Tensor:\n",
        "\n",
        "    # Loss computation.\n",
        "    user_embeddings = self.user_model(features[\"userId\"])\n",
        "    positive_movie_embeddings = self.movie_model(features[\"movieId\"])\n",
        "    loss = self.task(user_embeddings, positive_movie_embeddings)\n",
        "\n",
        "    # Handle regularization losses as well.\n",
        "    regularization_loss = sum(self.losses)\n",
        "\n",
        "    total_loss = loss + regularization_loss\n",
        "\n",
        "    metrics = {metric.name: metric.result() for metric in self.metrics}\n",
        "    metrics[\"loss\"] = loss\n",
        "    metrics[\"regularization_loss\"] = regularization_loss\n",
        "    metrics[\"total_loss\"] = total_loss\n",
        "\n",
        "    return metrics"
      ],
      "metadata": {
        "id": "JULPPZjk7aBX"
      },
      "execution_count": 88,
      "outputs": []
    },
    {
      "cell_type": "markdown",
      "source": [
        "## Fitting"
      ],
      "metadata": {
        "id": "jzT_REsJ7jME"
      }
    },
    {
      "cell_type": "code",
      "source": [
        "model = MovielensModel(user_model, movie_model)\n",
        "model.compile(optimizer=tf.keras.optimizers.Adagrad(learning_rate=0.1))"
      ],
      "metadata": {
        "id": "tBjy8JJJ7clG"
      },
      "execution_count": 89,
      "outputs": []
    },
    {
      "cell_type": "code",
      "source": [
        "cached_train = train.shuffle(100).batch(10).cache()\n",
        "cached_test = test.batch(10).cache()"
      ],
      "metadata": {
        "id": "8iU4ACVH7mVl"
      },
      "execution_count": 90,
      "outputs": []
    },
    {
      "cell_type": "code",
      "source": [
        "model.fit(cached_train, epochs=3)"
      ],
      "metadata": {
        "colab": {
          "base_uri": "https://localhost:8080/"
        },
        "id": "z55zJOia7mYg",
        "outputId": "be7ea3b8-d186-46ed-a7a5-df6d32d379d8"
      },
      "execution_count": 91,
      "outputs": [
        {
          "output_type": "stream",
          "name": "stdout",
          "text": [
            "Epoch 1/3\n",
            "{'movieId': <tf.Tensor 'IteratorGetNext:0' shape=(None,) dtype=string>, 'userId': <tf.Tensor 'IteratorGetNext:1' shape=(None,) dtype=string>}\n",
            "{'movieId': <tf.Tensor 'IteratorGetNext:0' shape=(None,) dtype=string>, 'userId': <tf.Tensor 'IteratorGetNext:1' shape=(None,) dtype=string>}\n",
            "8/8 [==============================] - 2s 56ms/step - factorized_top_k/top_1_categorical_accuracy: 0.0750 - factorized_top_k/top_5_categorical_accuracy: 0.0750 - factorized_top_k/top_10_categorical_accuracy: 0.0750 - factorized_top_k/top_50_categorical_accuracy: 0.1000 - factorized_top_k/top_100_categorical_accuracy: 0.9500 - loss: 23.0246 - regularization_loss: 0.0000e+00 - total_loss: 23.0246\n",
            "Epoch 2/3\n",
            "8/8 [==============================] - 0s 52ms/step - factorized_top_k/top_1_categorical_accuracy: 0.6625 - factorized_top_k/top_5_categorical_accuracy: 0.6875 - factorized_top_k/top_10_categorical_accuracy: 0.6875 - factorized_top_k/top_50_categorical_accuracy: 0.6875 - factorized_top_k/top_100_categorical_accuracy: 0.6875 - loss: 23.0141 - regularization_loss: 0.0000e+00 - total_loss: 23.0141\n",
            "Epoch 3/3\n",
            "8/8 [==============================] - 0s 48ms/step - factorized_top_k/top_1_categorical_accuracy: 0.6625 - factorized_top_k/top_5_categorical_accuracy: 0.6875 - factorized_top_k/top_10_categorical_accuracy: 0.6875 - factorized_top_k/top_50_categorical_accuracy: 0.6875 - factorized_top_k/top_100_categorical_accuracy: 0.6875 - loss: 22.9928 - regularization_loss: 0.0000e+00 - total_loss: 22.9928\n"
          ]
        },
        {
          "output_type": "execute_result",
          "data": {
            "text/plain": [
              "<keras.callbacks.History at 0x7f5553ef8a50>"
            ]
          },
          "metadata": {},
          "execution_count": 91
        }
      ]
    },
    {
      "cell_type": "code",
      "source": [
        "model.evaluate(cached_test, return_dict=True)"
      ],
      "metadata": {
        "colab": {
          "base_uri": "https://localhost:8080/"
        },
        "id": "oIdQKh-K7mbM",
        "outputId": "2545e24d-7758-4c3c-cd6c-2a3b5b178132"
      },
      "execution_count": 92,
      "outputs": [
        {
          "output_type": "stream",
          "name": "stdout",
          "text": [
            "{'movieId': <tf.Tensor 'IteratorGetNext:0' shape=(None,) dtype=string>, 'userId': <tf.Tensor 'IteratorGetNext:1' shape=(None,) dtype=string>}\n",
            "2/2 [==============================] - 1s 56ms/step - factorized_top_k/top_1_categorical_accuracy: 0.8500 - factorized_top_k/top_5_categorical_accuracy: 0.8500 - factorized_top_k/top_10_categorical_accuracy: 0.8500 - factorized_top_k/top_50_categorical_accuracy: 0.8500 - factorized_top_k/top_100_categorical_accuracy: 0.8500 - loss: 23.0259 - regularization_loss: 0.0000e+00 - total_loss: 23.0259\n"
          ]
        },
        {
          "output_type": "execute_result",
          "data": {
            "text/plain": [
              "{'factorized_top_k/top_100_categorical_accuracy': 0.8500000238418579,\n",
              " 'factorized_top_k/top_10_categorical_accuracy': 0.8500000238418579,\n",
              " 'factorized_top_k/top_1_categorical_accuracy': 0.8500000238418579,\n",
              " 'factorized_top_k/top_50_categorical_accuracy': 0.8500000238418579,\n",
              " 'factorized_top_k/top_5_categorical_accuracy': 0.8500000238418579,\n",
              " 'loss': 23.02585220336914,\n",
              " 'regularization_loss': 0,\n",
              " 'total_loss': 23.02585220336914}"
            ]
          },
          "metadata": {},
          "execution_count": 92
        }
      ]
    },
    {
      "cell_type": "code",
      "source": [
        "# Create a model that takes in raw query features, and\n",
        "index = tfrs.layers.factorized_top_k.BruteForce(model.user_model)\n",
        "# recommends movies out of the entire movies dataset.\n",
        "index.index_from_dataset(\n",
        "  tf.data.Dataset.zip((movies.batch(100), movies.batch(100).map(model.movie_model)))\n",
        ")\n",
        "\n",
        "# Get recommendations.\n",
        "no_user = \"1\"\n",
        "jumlah_rekomendasi = 10\n",
        "\n",
        "_, titles = index(tf.constant([no_user]))\n",
        "print(f\"Recommendations for user{no_user}: {titles[0, :jumlah_rekomendasi]}\")"
      ],
      "metadata": {
        "colab": {
          "base_uri": "https://localhost:8080/"
        },
        "id": "wJwAicLA7qcz",
        "outputId": "895e3828-d661-4d32-f66d-e9b89643d5eb"
      },
      "execution_count": 99,
      "outputs": [
        {
          "output_type": "stream",
          "name": "stdout",
          "text": [
            "Recommendations for user1: [b'70' b'9' b'87' b'57' b'20' b'86' b'92' b'25' b'56' b'74']\n"
          ]
        }
      ]
    }
  ]
}