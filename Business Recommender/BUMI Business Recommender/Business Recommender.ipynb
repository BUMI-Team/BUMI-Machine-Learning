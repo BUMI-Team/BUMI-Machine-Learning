{
 "cells": [
  {
   "cell_type": "markdown",
   "metadata": {},
   "source": [
    "## Business Recommendation System"
   ]
  },
  {
   "cell_type": "markdown",
   "metadata": {},
   "source": [
    "Adaptated from: \n",
    "- https://www.kaggle.com/code/sagarbapodara/coursera-course-recommendation-system-webapp"
   ]
  },
  {
   "cell_type": "markdown",
   "metadata": {},
   "source": [
    "## Package Declaration"
   ]
  },
  {
   "cell_type": "code",
   "execution_count": 237,
   "metadata": {},
   "outputs": [],
   "source": [
    "import os\n",
    "import numpy as np\n",
    "import pandas as pd\n",
    "from sklearn.feature_extraction.text import CountVectorizer\n",
    "from sklearn.metrics.pairwise import cosine_similarity as cs\n",
    "\n",
    "import nltk\n",
    "from nltk.stem.porter import PorterStemmer"
   ]
  },
  {
   "cell_type": "markdown",
   "metadata": {},
   "source": [
    "## ETL"
   ]
  },
  {
   "cell_type": "code",
   "execution_count": 329,
   "metadata": {},
   "outputs": [],
   "source": [
    "def ETL(csv_file):\n",
    "    \"\"\"\n",
    "    input:\n",
    "        csv file\n",
    "    deskripsi:\n",
    "        mengekstrak, transformasi data, \n",
    "        dan load data kedalam dataframe/variabel baru\n",
    "    output:\n",
    "        df,new_df,users\n",
    "    \"\"\"\n",
    "    #Variabel Lokal\n",
    "    users={}\n",
    "\n",
    "    #Extract\n",
    "    df = pd.read_csv(csv_file)\n",
    "    df.bidang_keahlian = df.bidang_keahlian.apply(lambda x: x.replace(\"[\",\"\").replace(\"]\",\"\").replace(\"'\",\"\"))\n",
    "    df.hobi = df.hobi.apply(lambda x: x.replace(\"[\",\"\").replace(\"]\",\"\").replace(\"'\",\"\"))\n",
    "    users = extract_user_datas(df)\n",
    "    # print(df)\n",
    "    # ##show statistics\n",
    "    # df.info()\n",
    "    # df.isnull().sum()\n",
    "    # df.level\n",
    "    # df.bidang_keahlian\n",
    "    # df.hobi\n",
    "    # df.modal_usaha\n",
    "\n",
    "    # #Transform\n",
    "    # df.user_id= df.user_id.astype(str)\n",
    "\n",
    "    # #Load\n",
    "    # #load main datas to new dataframe will be used\n",
    "    # df[\"features\"] = df[\"bidang_keahlian\"] + \",\" + df[\"hobi\"]  + \",\" + df[\"modal_usaha\"]\n",
    "    # new_df = df[[\"user_id\",\"features\"]]\n",
    "    # new_df.features = new_df.features.apply(lambda x: x.replace(\",\",\" \"))\n",
    "    # new_df.features = new_df.features.apply(lambda x: x.lower())\n",
    "\n",
    "    # new_df\n",
    "\n",
    "    return df,new_df,users\n",
    "\n",
    "def extract_user_datas(df):\n",
    "    \"\"\"\n",
    "    output: \n",
    "        list users\n",
    "    \"\"\"\n",
    "    row = df.values.tolist()\n",
    "    # print(row[0])\n",
    "    for r in row:\n",
    "        # print(r)\n",
    "        user_meta_data = {\n",
    "            \"user_id\":r[0],\n",
    "            \"status\":r[1],\n",
    "            \"bidang_keahlian\":r[2],\n",
    "            \"hobi\":r[3],\n",
    "            \"modal_usaha\":r[4],\n",
    "            \"nama_usaha\":r[5]\n",
    "        }\n",
    "\n",
    "        users[r[0]] = user_meta_data\n",
    "    return users\n",
    "\n",
    "def get_users_who_deserved_list(users):\n",
    "    \"\"\"\n",
    "    input:\n",
    "        list user\n",
    "    deskripsi:\n",
    "        Penentuan userId yang \"layak\" mendapatkan rekomendasi bisnis\n",
    "    output: \n",
    "        list user id yang belum punya bisnis\n",
    "    \"\"\"\n",
    "    deserved_users = []\n",
    "    for key,user in users.items():\n",
    "        if user[\"status\"] == \"belum_punya_usaha\":\n",
    "            deserved_users.append(key)\n",
    "\n",
    "    return deserved_users\n"
   ]
  },
  {
   "cell_type": "code",
   "execution_count": 330,
   "metadata": {},
   "outputs": [
    {
     "name": "stdout",
     "output_type": "stream",
     "text": [
      "[40, 41, 42, 43, 44, 45, 46, 47, 48, 49]\n"
     ]
    }
   ],
   "source": [
    "users = {}\n",
    "user_meta_data = {\n",
    "    \"user_id\":\"\",\n",
    "    \"status\":\"\",\n",
    "    \"bidang_keahlian\":\"\",\n",
    "    \"hobi\":\"\",\n",
    "    \"modal_usaha\":\"\",\n",
    "    \"nama_usaha\":\"\"\n",
    "}\n",
    "df,new_df,users = ETL(\"user_input.csv\")\n",
    "deserved_users = get_users_who_deserved_list(users)\n",
    "print((deserved_users))"
   ]
  },
  {
   "cell_type": "code",
   "execution_count": 331,
   "metadata": {},
   "outputs": [
    {
     "name": "stdout",
     "output_type": "stream",
     "text": [
      "{0: {'user_id': 0, 'status': 'udah_punya_usaha', 'bidang_keahlian': 'kuliner', 'hobi': 'makan, travelling', 'modal_usaha': 'under_50', 'nama_usaha': 'nama_usaha-0'}, 1: {'user_id': 1, 'status': 'udah_punya_usaha', 'bidang_keahlian': 'homecare, kuliner', 'hobi': 'nonton, baca, travelling, membaca, makan', 'modal_usaha': 'under_50', 'nama_usaha': 'nama_usaha-1'}, 2: {'user_id': 2, 'status': 'udah_punya_usaha', 'bidang_keahlian': 'homecare', 'hobi': 'makan, nonton, membaca', 'modal_usaha': 'under_50', 'nama_usaha': 'nama_usaha-2'}, 3: {'user_id': 3, 'status': 'udah_punya_usaha', 'bidang_keahlian': 'healtcare, kuliner', 'hobi': 'membaca, nonton', 'modal_usaha': 'under_50', 'nama_usaha': 'nama_usaha-3'}, 4: {'user_id': 4, 'status': 'udah_punya_usaha', 'bidang_keahlian': 'homecare, healtcare', 'hobi': 'nonton, baca, olahraga', 'modal_usaha': 'under_50', 'nama_usaha': 'nama_usaha-4'}, 5: {'user_id': 5, 'status': 'udah_punya_usaha', 'bidang_keahlian': 'healtcare, homecare, kuliner', 'hobi': 'travelling', 'modal_usaha': 'under_50', 'nama_usaha': 'nama_usaha-5'}, 6: {'user_id': 6, 'status': 'udah_punya_usaha', 'bidang_keahlian': 'healtcare, homecare', 'hobi': 'olahraga, baca, nonton, makan, membaca', 'modal_usaha': 'above_100', 'nama_usaha': 'nama_usaha-6'}, 7: {'user_id': 7, 'status': 'udah_punya_usaha', 'bidang_keahlian': 'kuliner', 'hobi': 'makan, olahraga, nonton, baca', 'modal_usaha': 'above_100', 'nama_usaha': 'nama_usaha-7'}, 8: {'user_id': 8, 'status': 'udah_punya_usaha', 'bidang_keahlian': 'kuliner, healtcare, homecare', 'hobi': 'membaca, makan, baca, nonton', 'modal_usaha': 'above_100', 'nama_usaha': 'nama_usaha-8'}, 9: {'user_id': 9, 'status': 'udah_punya_usaha', 'bidang_keahlian': 'homecare, kuliner', 'hobi': 'makan', 'modal_usaha': 'between_50_and_100', 'nama_usaha': 'nama_usaha-9'}, 10: {'user_id': 10, 'status': 'udah_punya_usaha', 'bidang_keahlian': 'homecare', 'hobi': 'makan, travelling, olahraga, baca', 'modal_usaha': 'between_50_and_100', 'nama_usaha': 'nama_usaha-10'}, 11: {'user_id': 11, 'status': 'udah_punya_usaha', 'bidang_keahlian': 'healtcare, kuliner, homecare', 'hobi': 'membaca, makan, travelling, olahraga, nonton', 'modal_usaha': 'under_50', 'nama_usaha': 'nama_usaha-11'}, 12: {'user_id': 12, 'status': 'udah_punya_usaha', 'bidang_keahlian': 'homecare, kuliner', 'hobi': 'olahraga, travelling, membaca, nonton, makan', 'modal_usaha': 'between_50_and_100', 'nama_usaha': 'nama_usaha-12'}, 13: {'user_id': 13, 'status': 'udah_punya_usaha', 'bidang_keahlian': 'kuliner, healtcare, homecare', 'hobi': 'olahraga, travelling, makan', 'modal_usaha': 'above_100', 'nama_usaha': 'nama_usaha-13'}, 14: {'user_id': 14, 'status': 'udah_punya_usaha', 'bidang_keahlian': 'healtcare, kuliner, homecare', 'hobi': 'baca, membaca', 'modal_usaha': 'under_50', 'nama_usaha': 'nama_usaha-14'}, 15: {'user_id': 15, 'status': 'udah_punya_usaha', 'bidang_keahlian': 'kuliner, healtcare', 'hobi': 'nonton, membaca, baca, olahraga, travelling', 'modal_usaha': 'between_50_and_100', 'nama_usaha': 'nama_usaha-15'}, 16: {'user_id': 16, 'status': 'udah_punya_usaha', 'bidang_keahlian': 'kuliner, healtcare', 'hobi': 'nonton, travelling, baca, makan, olahraga', 'modal_usaha': 'under_50', 'nama_usaha': 'nama_usaha-16'}, 17: {'user_id': 17, 'status': 'udah_punya_usaha', 'bidang_keahlian': 'healtcare', 'hobi': 'membaca, nonton', 'modal_usaha': 'between_50_and_100', 'nama_usaha': 'nama_usaha-17'}, 18: {'user_id': 18, 'status': 'udah_punya_usaha', 'bidang_keahlian': 'homecare, healtcare', 'hobi': 'membaca, olahraga, nonton', 'modal_usaha': 'between_50_and_100', 'nama_usaha': 'nama_usaha-18'}, 19: {'user_id': 19, 'status': 'udah_punya_usaha', 'bidang_keahlian': 'kuliner, homecare', 'hobi': 'membaca, nonton', 'modal_usaha': 'between_50_and_100', 'nama_usaha': 'nama_usaha-19'}, 20: {'user_id': 20, 'status': 'udah_punya_usaha', 'bidang_keahlian': 'kuliner, healtcare', 'hobi': 'travelling', 'modal_usaha': 'under_50', 'nama_usaha': 'nama_usaha-20'}, 21: {'user_id': 21, 'status': 'udah_punya_usaha', 'bidang_keahlian': 'kuliner, healtcare, homecare', 'hobi': 'membaca', 'modal_usaha': 'above_100', 'nama_usaha': 'nama_usaha-21'}, 22: {'user_id': 22, 'status': 'udah_punya_usaha', 'bidang_keahlian': 'healtcare', 'hobi': 'makan', 'modal_usaha': 'under_50', 'nama_usaha': 'nama_usaha-22'}, 23: {'user_id': 23, 'status': 'udah_punya_usaha', 'bidang_keahlian': 'healtcare, homecare', 'hobi': 'travelling, membaca, nonton, olahraga', 'modal_usaha': 'under_50', 'nama_usaha': 'nama_usaha-23'}, 24: {'user_id': 24, 'status': 'udah_punya_usaha', 'bidang_keahlian': 'kuliner, homecare, healtcare', 'hobi': 'membaca, nonton, baca', 'modal_usaha': 'under_50', 'nama_usaha': 'nama_usaha-24'}, 25: {'user_id': 25, 'status': 'udah_punya_usaha', 'bidang_keahlian': 'healtcare', 'hobi': 'nonton, makan, travelling', 'modal_usaha': 'above_100', 'nama_usaha': 'nama_usaha-25'}, 26: {'user_id': 26, 'status': 'udah_punya_usaha', 'bidang_keahlian': 'kuliner', 'hobi': 'nonton, membaca', 'modal_usaha': 'between_50_and_100', 'nama_usaha': 'nama_usaha-26'}, 27: {'user_id': 27, 'status': 'udah_punya_usaha', 'bidang_keahlian': 'kuliner, homecare', 'hobi': 'membaca, baca', 'modal_usaha': 'between_50_and_100', 'nama_usaha': 'nama_usaha-27'}, 28: {'user_id': 28, 'status': 'udah_punya_usaha', 'bidang_keahlian': 'homecare, kuliner, healtcare', 'hobi': 'baca, membaca', 'modal_usaha': 'between_50_and_100', 'nama_usaha': 'nama_usaha-28'}, 29: {'user_id': 29, 'status': 'udah_punya_usaha', 'bidang_keahlian': 'kuliner, healtcare, homecare', 'hobi': 'travelling, membaca', 'modal_usaha': 'between_50_and_100', 'nama_usaha': 'nama_usaha-29'}, 30: {'user_id': 30, 'status': 'udah_punya_usaha', 'bidang_keahlian': 'kuliner, homecare, healtcare', 'hobi': 'makan', 'modal_usaha': 'under_50', 'nama_usaha': 'nama_usaha-30'}, 31: {'user_id': 31, 'status': 'udah_punya_usaha', 'bidang_keahlian': 'homecare', 'hobi': 'travelling, membaca, makan', 'modal_usaha': 'above_100', 'nama_usaha': 'nama_usaha-31'}, 32: {'user_id': 32, 'status': 'udah_punya_usaha', 'bidang_keahlian': 'homecare, kuliner, healtcare', 'hobi': 'makan, membaca', 'modal_usaha': 'between_50_and_100', 'nama_usaha': 'nama_usaha-32'}, 33: {'user_id': 33, 'status': 'udah_punya_usaha', 'bidang_keahlian': 'homecare', 'hobi': 'baca, olahraga, membaca', 'modal_usaha': 'above_100', 'nama_usaha': 'nama_usaha-33'}, 34: {'user_id': 34, 'status': 'udah_punya_usaha', 'bidang_keahlian': 'homecare', 'hobi': 'makan', 'modal_usaha': 'above_100', 'nama_usaha': 'nama_usaha-34'}, 35: {'user_id': 35, 'status': 'udah_punya_usaha', 'bidang_keahlian': 'homecare, healtcare', 'hobi': 'membaca, baca, travelling, olahraga, makan', 'modal_usaha': 'above_100', 'nama_usaha': 'nama_usaha-35'}, 36: {'user_id': 36, 'status': 'udah_punya_usaha', 'bidang_keahlian': 'kuliner', 'hobi': 'baca, nonton, travelling, olahraga, membaca', 'modal_usaha': 'between_50_and_100', 'nama_usaha': 'nama_usaha-36'}, 37: {'user_id': 37, 'status': 'udah_punya_usaha', 'bidang_keahlian': 'kuliner', 'hobi': 'baca', 'modal_usaha': 'between_50_and_100', 'nama_usaha': 'nama_usaha-37'}, 38: {'user_id': 38, 'status': 'udah_punya_usaha', 'bidang_keahlian': 'homecare, healtcare', 'hobi': 'baca, membaca, travelling, makan', 'modal_usaha': 'between_50_and_100', 'nama_usaha': 'nama_usaha-38'}, 39: {'user_id': 39, 'status': 'udah_punya_usaha', 'bidang_keahlian': 'kuliner, homecare', 'hobi': 'travelling, makan, nonton, membaca', 'modal_usaha': 'under_50', 'nama_usaha': 'nama_usaha-39'}, 40: {'user_id': 40, 'status': 'belum_punya_usaha', 'bidang_keahlian': 'kuliner, healtcare', 'hobi': 'olahraga, makan, travelling, membaca', 'modal_usaha': 'under_50', 'nama_usaha': nan}, 41: {'user_id': 41, 'status': 'belum_punya_usaha', 'bidang_keahlian': 'homecare', 'hobi': 'olahraga, baca', 'modal_usaha': 'between_50_and_100', 'nama_usaha': nan}, 42: {'user_id': 42, 'status': 'belum_punya_usaha', 'bidang_keahlian': 'kuliner, homecare, healtcare', 'hobi': 'membaca, baca', 'modal_usaha': 'above_100', 'nama_usaha': nan}, 43: {'user_id': 43, 'status': 'belum_punya_usaha', 'bidang_keahlian': 'healtcare, homecare', 'hobi': 'baca, olahraga, travelling, membaca', 'modal_usaha': 'between_50_and_100', 'nama_usaha': nan}, 44: {'user_id': 44, 'status': 'belum_punya_usaha', 'bidang_keahlian': 'healtcare, kuliner, homecare', 'hobi': 'olahraga, makan, travelling, baca', 'modal_usaha': 'above_100', 'nama_usaha': nan}, 45: {'user_id': 45, 'status': 'belum_punya_usaha', 'bidang_keahlian': 'healtcare', 'hobi': 'travelling, baca, olahraga, membaca, makan', 'modal_usaha': 'under_50', 'nama_usaha': nan}, 46: {'user_id': 46, 'status': 'belum_punya_usaha', 'bidang_keahlian': 'kuliner, healtcare, homecare', 'hobi': 'makan, travelling, olahraga, nonton', 'modal_usaha': 'above_100', 'nama_usaha': nan}, 47: {'user_id': 47, 'status': 'belum_punya_usaha', 'bidang_keahlian': 'healtcare, kuliner', 'hobi': 'travelling, makan', 'modal_usaha': 'above_100', 'nama_usaha': nan}, 48: {'user_id': 48, 'status': 'belum_punya_usaha', 'bidang_keahlian': 'homecare', 'hobi': 'makan, olahraga, nonton, baca', 'modal_usaha': 'between_50_and_100', 'nama_usaha': nan}, 49: {'user_id': 49, 'status': 'belum_punya_usaha', 'bidang_keahlian': 'healtcare, kuliner, homecare', 'hobi': 'makan, olahraga', 'modal_usaha': 'between_50_and_100', 'nama_usaha': nan}}\n"
     ]
    }
   ],
   "source": [
    "# Check users metadata\n",
    "print(users)"
   ]
  },
  {
   "cell_type": "code",
   "execution_count": 367,
   "metadata": {},
   "outputs": [],
   "source": [
    "        \n",
    "def stem(txt):\n",
    "    y = []\n",
    "    for t in txt.split():\n",
    "        y.append(porterStemmer.stem(t))\n",
    "    return \" \".join(y)\n",
    "    \n",
    "def getSimilarityMatrix():\n",
    "    cv = CountVectorizer(max_features = 5000)\n",
    "    vectors = cv.fit_transform(new_df.features).toarray()\n",
    "    porterStemmer = PorterStemmer()\n",
    "    new_df.features = new_df.features.apply(stem)\n",
    "    similarityMatrix = cs(vectors)\n",
    "    # print(\"Similarity Matrix:\\n\",similarityMatrix) \n",
    "\n",
    "    return similarityMatrix\n",
    "\n",
    "def getRecommendation(user_id, deserved_users, num_recommendation):\n",
    "    \"\"\"\n",
    "    input:\n",
    "        user id yang belum memiliki bisnis\n",
    "    deskripsi:\n",
    "        Fungsi untuk mendapatkan rekomendasi bisnis\n",
    "        output rekomendasi berdasarkan user2 yang sudah punya bisnis\n",
    "    output:\n",
    "        nama usaha rekomendasi\n",
    "    \"\"\"\n",
    "    rekomendasi_teratas = []\n",
    "\n",
    "    if user_id not in deserved_users:\n",
    "        print(\"Ganti nomor user yg belum punya usaha!\")\n",
    "    else:\n",
    "        index = new_df[new_df[\"user_id\"] == str(user_id)].index[0]\n",
    "        similarityMatrix = getSimilarityMatrix()\n",
    "        distance = similarityMatrix[index]\n",
    "        userRank = sorted(list(enumerate(distance)), reverse = True, key = lambda x:x[1])\n",
    "        # print(\"Recommendation Ranking:\\n\",userRank)\n",
    "\n",
    "        print(\"List Rekomendasi \", num_recommendation, \" teratas:\")\n",
    "        count = 0\n",
    "\n",
    "        \"\"\"\n",
    "        The Recommendation system only for he doesn't has any business\n",
    "        or who has status \"belum_punya usaha\". So, they will be recommended \n",
    "        the business from who have any business. The status \"udah_punya_usaha\"\n",
    "        will be skipped since they are not relevant to be recommended to the users\n",
    "        \"\"\"\n",
    "        for i in userRank:\n",
    "            # print(i[0])\n",
    "\n",
    "            ## User ID\n",
    "            if users[i[0]][\"status\"] == \"udah_punya_usaha\" and user_id != str(i[0]) :\n",
    "                rekomendasi_teratas.append(i)\n",
    "                count+=1\n",
    "\n",
    "            if count >= num_recommendation:\n",
    "                break\n",
    "            \n",
    "        for item in rekomendasi_teratas:\n",
    "            print(users[item[0]][\"nama_usaha\"])"
   ]
  },
  {
   "cell_type": "code",
   "execution_count": 369,
   "metadata": {},
   "outputs": [
    {
     "name": "stdout",
     "output_type": "stream",
     "text": [
      "Pilih salah 1 dari user ini\n",
      "[40, 41, 42, 43, 44, 45, 46, 47, 48, 49]\n",
      "List Rekomendasi  5  teratas:\n",
      "nama_usaha-32\n",
      "nama_usaha-20\n",
      "nama_usaha-39\n",
      "nama_usaha-9\n",
      "nama_usaha-26\n"
     ]
    },
    {
     "name": "stderr",
     "output_type": "stream",
     "text": [
      "C:\\Users\\Muhammad Nur Ilmi\\AppData\\Local\\Temp\\ipykernel_9264\\3764660283.py:11: SettingWithCopyWarning: \n",
      "A value is trying to be set on a copy of a slice from a DataFrame.\n",
      "Try using .loc[row_indexer,col_indexer] = value instead\n",
      "\n",
      "See the caveats in the documentation: https://pandas.pydata.org/pandas-docs/stable/user_guide/indexing.html#returning-a-view-versus-a-copy\n",
      "  new_df.features = new_df.features.apply(stem)\n"
     ]
    }
   ],
   "source": [
    "print(\"Pilih salah 1 dari user ini\")\n",
    "print(deserved_users)\n",
    "getRecommendation(49, deserved_users, 5)\n",
    "# users"
   ]
  }
 ],
 "metadata": {
  "interpreter": {
   "hash": "5cc589d41702445dabeafc01b22c508f1c4cddc1280420406005e16c3876bbd0"
  },
  "kernelspec": {
   "display_name": "Python 3.10.4 64-bit",
   "language": "python",
   "name": "python3"
  },
  "language_info": {
   "codemirror_mode": {
    "name": "ipython",
    "version": 3
   },
   "file_extension": ".py",
   "mimetype": "text/x-python",
   "name": "python",
   "nbconvert_exporter": "python",
   "pygments_lexer": "ipython3",
   "version": "3.10.4"
  },
  "orig_nbformat": 4
 },
 "nbformat": 4,
 "nbformat_minor": 2
}
